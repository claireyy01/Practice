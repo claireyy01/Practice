{
 "cells": [
  {
   "cell_type": "markdown",
   "id": "9f74d30e-ba04-4019-a794-5288beb58ebe",
   "metadata": {},
   "source": [
    "# 파이썬 300제 : 분기문(101~130)\n",
    "- 총 3일 간 진행하여, 2024.07.08에 완료하였습니다.\n",
    "\n",
    "## 101~110번은 예상하는 문제. 눈으로 보고 풀이 완료"
   ]
  },
  {
   "cell_type": "markdown",
   "id": "4b5bdcd3-4055-4899-8f6a-4704f5570c81",
   "metadata": {
    "jp-MarkdownHeadingCollapsed": true
   },
   "source": [
    "## 111~120번"
   ]
  },
  {
   "cell_type": "code",
   "execution_count": 2,
   "id": "30876729-9ec9-4276-8feb-896c4cfc87f9",
   "metadata": {},
   "outputs": [
    {
     "name": "stdin",
     "output_type": "stream",
     "text": [
      "입력:  안녕하세요\n"
     ]
    },
    {
     "name": "stdout",
     "output_type": "stream",
     "text": [
      "안녕하세요안녕하세요\n"
     ]
    }
   ],
   "source": [
    "# 111 사용자로부터 입력받은 문자열을 두 번 출력하라. 아래는 사용자가 \"안녕하세요\"를 입력한 경우의 출력 결과이다.\n",
    "\n",
    "user = input('입력: ')\n",
    "print(hi*2)"
   ]
  },
  {
   "cell_type": "code",
   "execution_count": 5,
   "id": "c8d0bb09-674e-4d85-91d1-f5b7d05776d1",
   "metadata": {},
   "outputs": [
    {
     "name": "stdin",
     "output_type": "stream",
     "text": [
      "숫자를 입력하세요:  30\n"
     ]
    },
    {
     "name": "stdout",
     "output_type": "stream",
     "text": [
      "40\n"
     ]
    }
   ],
   "source": [
    "# 112 사용자로부터 하나의 숫자를 입력받고, 입력 받은 숫자에 10을 더해 출력하라.\n",
    "\n",
    "user02 = int(input('숫자를 입력하세요: '))\n",
    "print(user02 + 10)"
   ]
  },
  {
   "cell_type": "code",
   "execution_count": 6,
   "id": "d9df7850-4023-4d4c-b56e-f57f85224bfd",
   "metadata": {},
   "outputs": [
    {
     "name": "stdin",
     "output_type": "stream",
     "text": [
      "숫자 입력:  7\n"
     ]
    },
    {
     "name": "stdout",
     "output_type": "stream",
     "text": [
      "홀수\n"
     ]
    }
   ],
   "source": [
    "# 113 사용자로부터 하나의 숫자를 입력 받고 짝수/홀수를 판별하라.\n",
    "\n",
    "user03 = int(input('숫자 입력: '))\n",
    "if user03 % 2 == 0:\n",
    "    print('짝수')\n",
    "else : \n",
    "    print('홀수')"
   ]
  },
  {
   "cell_type": "code",
   "execution_count": 7,
   "id": "ffbb87b9-a77e-4bba-9762-c6c16068ef91",
   "metadata": {},
   "outputs": [
    {
     "name": "stdin",
     "output_type": "stream",
     "text": [
      "입력값:  300\n"
     ]
    },
    {
     "name": "stdout",
     "output_type": "stream",
     "text": [
      "255\n"
     ]
    }
   ],
   "source": [
    "# 114 사용자로부터 값을 입력받은 후 해당 값에 20을 더한 값을 출력하라. 단 사용자가 입력한 값과 20을 더한 계산 값이 255를 초과하는 경우 255를 출력해야 한다.\n",
    "\n",
    "user04 = int(input('입력값: '))\n",
    "if user04 + 20 > 255 :\n",
    "    print(255)\n",
    "else :\n",
    "    print(user04 + 20)"
   ]
  },
  {
   "cell_type": "code",
   "execution_count": 10,
   "id": "a5a4f058-fcff-475c-b0d9-ac894a8310b8",
   "metadata": {},
   "outputs": [
    {
     "name": "stdin",
     "output_type": "stream",
     "text": [
      "입력값:  900\n"
     ]
    },
    {
     "name": "stdout",
     "output_type": "stream",
     "text": [
      "255\n"
     ]
    }
   ],
   "source": [
    "# 115 사용자로부터 하나의 값을 입력받은 후 해당 값에 20을 뺀 값을 출력하라. 단 출력 값의 범위는 0~255이다. \n",
    "# 예를 들어 결괏값이 0보다 작은 값이되는 경우 0을 출력하고 255보다 큰 값이 되는 경우 255를 출력해야 한다.\n",
    "\n",
    "user05 = int(input('입력값: '))\n",
    "num = user05 - 20\n",
    "if num < 0 :\n",
    "    print(0)\n",
    "elif 0 <= num <= 255 : \n",
    "    print(num)\n",
    "else :\n",
    "    print(255)"
   ]
  },
  {
   "cell_type": "code",
   "execution_count": 16,
   "id": "e978512d-d7cd-4307-a77c-79881688e49b",
   "metadata": {},
   "outputs": [
    {
     "name": "stdin",
     "output_type": "stream",
     "text": [
      "현재시간:   13:10\n"
     ]
    },
    {
     "name": "stdout",
     "output_type": "stream",
     "text": [
      "정각이 아닙니다.\n"
     ]
    }
   ],
   "source": [
    "# 116 사용자로부터 입력 받은 시간이 정각인지 판별하라.\n",
    "\n",
    "user_time = input('현재시간:  ')\n",
    "\n",
    "if user_time[-2] == \"00\" :\n",
    "    print(\"정각입니다.\")\n",
    "\n",
    "else : \n",
    "    print(\"정각이 아닙니다.\")"
   ]
  },
  {
   "cell_type": "code",
   "execution_count": 17,
   "id": "0476cd30-fdf9-4364-b0d1-a13f14b7aa4c",
   "metadata": {},
   "outputs": [
    {
     "name": "stdin",
     "output_type": "stream",
     "text": [
      "좋아하는 과일은?  딸기\n"
     ]
    },
    {
     "name": "stdout",
     "output_type": "stream",
     "text": [
      "오답입니다.\n"
     ]
    }
   ],
   "source": [
    "# 117 사용자로 입력받은 단어가 아래 fruit 리스트에 포함되어 있는지를 확인하라. 포함되었다면 \"정답입니다\"를 아닐 경우 \"오답입니다\" 출력하라.\n",
    "\n",
    "fruit = [\"사과\", \"포도\", \"홍시\"]\n",
    "\n",
    "user06 = input('좋아하는 과일은? ')\n",
    "if user06 in fruit : \n",
    "    print('정답입니다.')\n",
    "\n",
    "else: \n",
    "    print('오답입니다.')"
   ]
  },
  {
   "cell_type": "code",
   "execution_count": 4,
   "id": "9a78df01-efa9-4ef6-b24a-63467aabac99",
   "metadata": {},
   "outputs": [
    {
     "name": "stdout",
     "output_type": "stream",
     "text": [
      "Hi, there.\n"
     ]
    }
   ],
   "source": [
    "# 118 코드 출력 결과 예상하기\n",
    "\n",
    "if 4 < 3:\n",
    "    print(\"Hello World.\")\n",
    "else:\n",
    "    print(\"Hi, there.\")\n",
    "\n",
    "# ===예상===\n",
    "# Hi, there."
   ]
  },
  {
   "cell_type": "code",
   "execution_count": 6,
   "id": "21cafcd3-579f-48a2-92f2-c9de9f893a1b",
   "metadata": {},
   "outputs": [
    {
     "name": "stdout",
     "output_type": "stream",
     "text": [
      "1\n",
      "2\n",
      "4\n"
     ]
    }
   ],
   "source": [
    "# 119 코드 출력 결과 예상하기\n",
    "\n",
    "if True :\n",
    "    print (\"1\")\n",
    "    print (\"2\")\n",
    "else :\n",
    "    print(\"3\")\n",
    "print(\"4\")\n",
    "\n",
    "# === 예상 : if문에 조건이 없어서 성립 여부를 알 수 없으므로 바로 else문 실행\n",
    "# 3\n",
    "# 4"
   ]
  },
  {
   "cell_type": "markdown",
   "id": "d5a27342-2149-4d82-8e73-be3ea8317d21",
   "metadata": {},
   "source": [
    "-> if true 의 경우 항상 true인 경우이므로 if 문이 실행되어 1, 2, 4가 순서대로 출력된다."
   ]
  },
  {
   "cell_type": "code",
   "execution_count": 14,
   "id": "90781dcb-782e-40de-b3cb-de90418555a5",
   "metadata": {},
   "outputs": [
    {
     "name": "stdout",
     "output_type": "stream",
     "text": [
      "3\n",
      "5\n"
     ]
    }
   ],
   "source": [
    "# 120 코드 출력 결과 예상하기\n",
    "\n",
    "if True :\n",
    "    if False:\n",
    "        print(\"1\")\n",
    "        print(\"2\")\n",
    "    else:\n",
    "        print(\"3\")\n",
    "else :\n",
    "    print(\"4\")\n",
    "print(\"5\")\n",
    "\n",
    "# === 예상 : 첫번째 if문은 항상 true이므로 두번째 if문으로 이동, 두번째 if문은 항상 false이므로 else 문 실행. 맨 마지막 print문 실행.\n",
    "# 3\n",
    "# 5"
   ]
  },
  {
   "cell_type": "code",
   "execution_count": 16,
   "id": "e1ba3b3c-6d29-48ff-93d1-ca6cb92ef90b",
   "metadata": {},
   "outputs": [
    {
     "name": "stdin",
     "output_type": "stream",
     "text": [
      "인사해보세요:  안녕하세요\n"
     ]
    },
    {
     "name": "stdout",
     "output_type": "stream",
     "text": [
      "안녕하세요안녕하세요\n"
     ]
    }
   ],
   "source": [
    "# 121 사용자로부터 입력받은 문자열을 두 번 출력하라. 사용자가 \"안녕하세요\"를 입력한 경우\n",
    "\n",
    "hi = input('인사해보세요: ')\n",
    "print(hi*2)"
   ]
  },
  {
   "cell_type": "code",
   "execution_count": 18,
   "id": "797baaad-ab1e-43b9-9abc-98a2c1cc8028",
   "metadata": {},
   "outputs": [
    {
     "name": "stdin",
     "output_type": "stream",
     "text": [
      "숫자를 입력하세요:  5\n"
     ]
    },
    {
     "name": "stdout",
     "output_type": "stream",
     "text": [
      "15.0\n"
     ]
    }
   ],
   "source": [
    "# 122 사용자로부터 하나의 숫자를 입력받고, 입력 받은 숫자에 10을 더해 출력하라.\n",
    "\n",
    "num = input('숫자를 입력하세요: ')\n",
    "number = float(num) + 10\n",
    "print(number)"
   ]
  },
  {
   "cell_type": "code",
   "execution_count": 22,
   "id": "01b2cadf-5164-41e9-8bd3-19c8f14b478b",
   "metadata": {},
   "outputs": [
    {
     "name": "stdin",
     "output_type": "stream",
     "text": [
      "숫자 1개를 입력하세요:  30\n"
     ]
    },
    {
     "name": "stdout",
     "output_type": "stream",
     "text": [
      "30.0\n",
      "짝수\n"
     ]
    }
   ],
   "source": [
    "# 123 사용자로부터 하나의 숫자를 입력 받고 짝수/홀수를 판별하라.\n",
    "\n",
    "num1 = input('숫자 1개를 입력하세요: ')\n",
    "num2 = float(num1)\n",
    "print(num2)\n",
    "\n",
    "if num2 % 2 == 0 :\n",
    "    print('짝수')\n",
    "else :\n",
    "    print('홀수')"
   ]
  },
  {
   "cell_type": "code",
   "execution_count": 28,
   "id": "895befc5-6edd-41df-8d7c-8ac28c72a685",
   "metadata": {},
   "outputs": [
    {
     "name": "stdin",
     "output_type": "stream",
     "text": [
      "입력값:  1000\n"
     ]
    },
    {
     "name": "stdout",
     "output_type": "stream",
     "text": [
      "255\n"
     ]
    }
   ],
   "source": [
    "# 124 사용자로부터 값을 입력받은 후 해당 값에 20을 더한 값을 출력하라. 단 사용자가 입력한 값과 20을 더한 계산 값이 255를 초과하는 경우 255를 출력해야 한다.\n",
    "\n",
    "num3 = input('입력값: ')\n",
    "int_num3 = int(num3) + 20\n",
    "\n",
    "\n",
    "if int_num3 > 255 :\n",
    "    print(255)\n",
    "else :\n",
    "    print(int_num3)"
   ]
  },
  {
   "cell_type": "code",
   "execution_count": 36,
   "id": "d0ddb32b-67a3-4016-8328-3fffbecd7e12",
   "metadata": {},
   "outputs": [
    {
     "name": "stdin",
     "output_type": "stream",
     "text": [
      "입력값:  15\n"
     ]
    },
    {
     "name": "stdout",
     "output_type": "stream",
     "text": [
      "출력값:  0\n"
     ]
    }
   ],
   "source": [
    "# 115 사용자로부터 하나의 값을 입력받은 후 해당 값에 20을 뺀 값을 출력하라. 단 출력 값의 범위는 0~255이다. \n",
    "# 예를 들어 결괏값이 0보다 작은 값이되는 경우 0을 출력하고 255보다 큰 값이 되는 경우 255를 출력해야 한다.\n",
    "\n",
    "num4 = input('입력값: ')\n",
    "_num4 = int(num4) - 20\n",
    "\n",
    "if _num4 < 0 :\n",
    "    print('출력값: ', 0)\n",
    "elif _num4 > 255 :\n",
    "    print('출력값: ', 255)\n",
    "else :\n",
    "    print('출력값: ', _num4)"
   ]
  },
  {
   "cell_type": "code",
   "execution_count": 52,
   "id": "fff1cb71-8739-42e2-8274-d3af25c1aa9c",
   "metadata": {},
   "outputs": [
    {
     "name": "stdin",
     "output_type": "stream",
     "text": [
      "현재시간: 9:00\n"
     ]
    },
    {
     "name": "stdout",
     "output_type": "stream",
     "text": [
      "정각이 아닙니다.\n"
     ]
    }
   ],
   "source": [
    "# 116 사용자로부터 입력 받은 시간이 정각인지 판별하라.\n",
    "\n",
    "# 사용자에게 시간 입력 받기\n",
    "time = input('현재시간:')\n",
    "\n",
    "# 정각인지 아닌지 판별하기\n",
    "if time[-2:] == 00 :\n",
    "    print('정각 입니다.')\n",
    "\n",
    "else :\n",
    "    print('정각이 아닙니다.')"
   ]
  },
  {
   "cell_type": "markdown",
   "id": "cc6ed4a0-26f1-4917-b0f3-752897ff0364",
   "metadata": {},
   "source": [
    "-> 정각인데 정각이 아니라고 한다..\n",
    "time의 타입을 찍어본다."
   ]
  },
  {
   "cell_type": "code",
   "execution_count": 55,
   "id": "ce086d82-0e5b-4daa-b15f-45e151f47c7f",
   "metadata": {},
   "outputs": [
    {
     "name": "stdin",
     "output_type": "stream",
     "text": [
      "현재시간: 9:00\n"
     ]
    },
    {
     "data": {
      "text/plain": [
       "str"
      ]
     },
     "execution_count": 55,
     "metadata": {},
     "output_type": "execute_result"
    }
   ],
   "source": [
    "# 사용자에게 시간 입력 받기\n",
    "time = input('현재시간:')\n",
    "\n",
    "type(time)"
   ]
  },
  {
   "cell_type": "markdown",
   "id": "943a063f-fddb-44ff-bda8-f3522693fa53",
   "metadata": {},
   "source": [
    "-> str인데 if문에서는 int와 같은지를 묻는 것이므로 false가 되서 생기는 문제  \n",
    "00을 str으로 바꿔본다."
   ]
  },
  {
   "cell_type": "code",
   "execution_count": 60,
   "id": "770a6a77-2551-4421-87de-699760f904ef",
   "metadata": {},
   "outputs": [
    {
     "name": "stdin",
     "output_type": "stream",
     "text": [
      "현재시간: 9:00\n"
     ]
    },
    {
     "name": "stdout",
     "output_type": "stream",
     "text": [
      "정각 입니다.\n"
     ]
    }
   ],
   "source": [
    "# 사용자에게 시간 입력 받기\n",
    "time = input('현재시간:')\n",
    "\n",
    "# 정각인지 아닌지 판별하기\n",
    "if time[-2:] == \"00\" :\n",
    "    print('정각 입니다.')\n",
    "\n",
    "else :\n",
    "    print('정각이 아닙니다.')"
   ]
  },
  {
   "cell_type": "code",
   "execution_count": 62,
   "id": "fe10e905-a367-4f60-889b-7191c57ec9da",
   "metadata": {},
   "outputs": [
    {
     "name": "stdin",
     "output_type": "stream",
     "text": [
      "좋아하는 과일은?  사과\n"
     ]
    },
    {
     "name": "stdout",
     "output_type": "stream",
     "text": [
      "정답입니다.\n"
     ]
    }
   ],
   "source": [
    "# 117 사용자로 입력받은 단어가 아래 fruit 리스트에 포함되어 있는지를 확인하라. 포함되었다면 \"정답입니다\"를 아닐 경우 \"오답입니다\" 출력하라.\n",
    "\n",
    "fruit = [\"사과\", \"포도\", \"홍시\"]\n",
    "\n",
    "user07 = input('좋아하는 과일은? ')\n",
    "\n",
    "if user07 == \"사과\" or user07 == \"포도\" or user07 == \"홍시\" : \n",
    "    print(\"정답입니다.\")\n",
    "else :\n",
    "    print(\"오답입니다.\")"
   ]
  },
  {
   "cell_type": "markdown",
   "id": "ae47b81c-621e-46e5-84e5-9357ba89cd79",
   "metadata": {},
   "source": [
    "-> if문을 더 간략히 작성해보자"
   ]
  },
  {
   "cell_type": "code",
   "execution_count": 69,
   "id": "56fd30bc-2ca9-4998-90f5-83673b54c91a",
   "metadata": {},
   "outputs": [
    {
     "name": "stdin",
     "output_type": "stream",
     "text": [
      "좋아하는 과일은?  사과\n"
     ]
    },
    {
     "name": "stdout",
     "output_type": "stream",
     "text": [
      "정답입니다.\n"
     ]
    }
   ],
   "source": [
    "fruit = [\"사과\", \"포도\", \"홍시\"]\n",
    "\n",
    "user07 = input('좋아하는 과일은? ')\n",
    "\n",
    "if user07 in fruit :\n",
    "    print(\"정답입니다.\")\n",
    "else :\n",
    "    print(\"오답입니다.\")"
   ]
  },
  {
   "cell_type": "code",
   "execution_count": 4,
   "id": "5680a21f-e614-4672-a09c-e993c9452b8b",
   "metadata": {},
   "outputs": [
    {
     "name": "stdin",
     "output_type": "stream",
     "text": [
      "투자 종목명을 입력하세요:  Microsoft\n"
     ]
    },
    {
     "name": "stdout",
     "output_type": "stream",
     "text": [
      "투자 경고 종목입니다.\n"
     ]
    }
   ],
   "source": [
    "# 118 투자 경고 종목 리스트가 있을 때 사용자로부터 종목명을 입력 받은 후 \n",
    "# 해당 종목이 투자 경고 종목이라면 '투자 경고 종목입니다'를 아니면 \"투자 경고 종목이 아닙니다.\"를 출력하는 프로그램을 작성하라.\n",
    "\n",
    "warn_investment_list = [\"Microsoft\", \"Google\", \"Naver\", \"Kakao\", \"SAMSUNG\", \"LG\"]\n",
    "\n",
    "# 종목명 입력 받기\n",
    "inv = input(\"투자 종목명을 입력하세요: \")\n",
    "\n",
    "# 경고 종목인지 확인\n",
    "if inv in warn_investment_list :\n",
    "    print(\"투자 경고 종목입니다.\")\n",
    "else : \n",
    "    print(\"투자 경고 종목이 아닙니다.\")"
   ]
  },
  {
   "cell_type": "code",
   "execution_count": 10,
   "id": "e5a8df22-9749-4648-8b73-43c65afee646",
   "metadata": {},
   "outputs": [
    {
     "name": "stdin",
     "output_type": "stream",
     "text": [
      "계절을 입력하세요:  여름\n"
     ]
    },
    {
     "name": "stdout",
     "output_type": "stream",
     "text": [
      "정답입니다.\n"
     ]
    }
   ],
   "source": [
    "# 119 아래와 같이 fruit 딕셔너리가 정의되어 있다. 사용자가 입력한 값이 딕셔너리 키 (key) 값에 포함되었다면 \"정답입니다\"를 아닐 경우 \"오답입니다\" 출력하라.\n",
    "\n",
    "fruit = {\"봄\" : \"딸기\", \"여름\" : \"토마토\", \"가을\" : \"사과\"}\n",
    "\n",
    "# 사용자 입력 받기\n",
    "user08 = input(\"계절을 입력하세요: \")\n",
    "\n",
    "# 입력값이 key 값에 포함되었는지 확인\n",
    "if user08 in fruit.keys() :    # if user in fruit: 처럼 키를 특정하지 않아도 됨. 원래 딕셔너리는 키를 통해서 값을 불러오는 것이므로!\n",
    "    print(\"정답입니다.\")\n",
    "else :\n",
    "    print(\"오답입니다.\")"
   ]
  },
  {
   "cell_type": "code",
   "execution_count": 18,
   "id": "8e97d65e-0f48-4ff7-8f3d-fba0462cfe2c",
   "metadata": {},
   "outputs": [
    {
     "name": "stdin",
     "output_type": "stream",
     "text": [
      "좋아하는 과일은? :  복숭아\n"
     ]
    },
    {
     "name": "stdout",
     "output_type": "stream",
     "text": [
      "오답입니다.\n"
     ]
    }
   ],
   "source": [
    "# 120 아래와 같이 fruit 딕셔너리가 정의되어 있다. 사용자가 입력한 값이 딕셔너리 값 (value)에 포함되었다면 \"정답입니다\"를 아닐 경우 \"오답입니다\" 출력하라.\n",
    "fruit = {\"봄\" : \"딸기\", \"여름\" : \"토마토\", \"가을\" : \"사과\"}\n",
    "\n",
    "user09 = input(\"좋아하는 과일은? : \")\n",
    "\n",
    "if user09 in fruit.values() :\n",
    "    print(\"정답입니다.\")\n",
    "\n",
    "else :\n",
    "    print(\"오답입니다.\")"
   ]
  },
  {
   "cell_type": "markdown",
   "id": "18b96f68-e2a7-4a7d-b494-eb8e0d235832",
   "metadata": {},
   "source": [
    "## 121~130번"
   ]
  },
  {
   "cell_type": "code",
   "execution_count": 25,
   "id": "ee97a0ef-9194-4e2b-9d70-ebceecc8547b",
   "metadata": {},
   "outputs": [
    {
     "name": "stdin",
     "output_type": "stream",
     "text": [
      "문자 한 개를 입력하세요 :  d\n"
     ]
    },
    {
     "name": "stdout",
     "output_type": "stream",
     "text": [
      "D\n"
     ]
    }
   ],
   "source": [
    "# 121 사용자로부터 문자 한 개를 입력 받고, 소문자일 경우 대문자로, 대문자 일 경우, 소문자로 변경해서 출력하라.\n",
    "\n",
    "user10 = input(\"문자 한 개를 입력하세요 : \")\n",
    "\n",
    "change = user10.swapcase()\n",
    "print(change)"
   ]
  },
  {
   "cell_type": "markdown",
   "id": "c765274c-4f96-48d1-ab13-beb8e719582c",
   "metadata": {},
   "source": [
    "위의 코드는 조건문이 아닌 swapcase()를 활용한 방식이다.  \n",
    "lower(), upper()을 활용하여 조건문으로 프로그래밍해보자.  \n",
    "- lower() : 모든 문자를 소문자로 바꾸기\n",
    "- upper() : 모든 문자를 대문자로 바꾸기\n",
    "- capitalize() : 첫번째 문자만 대문자로, 나머지는 소문자로 바꾸기\n",
    "- swapcase() : 대문자는 소문자로, 소문자는 대문자로 바꾸기\n",
    "\n",
    "해당 문자열이 대문자 or 소문자인지는 아래와 같이 확인한다.\n",
    "- isupper() : 모든 문자열이 대문자인지 확인\n",
    "- islower() : 모든 문자열이 소문자인지 확인"
   ]
  },
  {
   "cell_type": "code",
   "execution_count": 32,
   "id": "ac6289bc-c1d1-46c9-a957-d8be17564626",
   "metadata": {},
   "outputs": [
    {
     "name": "stdin",
     "output_type": "stream",
     "text": [
      "문자 한 개를 입력하세요 :  H\n"
     ]
    },
    {
     "name": "stdout",
     "output_type": "stream",
     "text": [
      "h\n"
     ]
    }
   ],
   "source": [
    "user11 = input(\"문자 한 개를 입력하세요 : \")\n",
    "\n",
    "# 입력받는 문자가 1개이므로 모두 대문자이거나 모두 소문자인 경우만 생긴다.\n",
    "if user11.isupper() == True :\n",
    "    print(user11.lower())\n",
    "else : \n",
    "    print(user11.upper())"
   ]
  },
  {
   "cell_type": "code",
   "execution_count": 38,
   "id": "775a12c2-a367-4eef-9caa-6819fe457e5c",
   "metadata": {},
   "outputs": [
    {
     "name": "stdin",
     "output_type": "stream",
     "text": [
      "점수를 입력하세요:  99\n"
     ]
    },
    {
     "name": "stdout",
     "output_type": "stream",
     "text": [
      "학점: A\n"
     ]
    }
   ],
   "source": [
    "# 122 점수 구간에 해당하는 학점이 아래와 같이 정의되어 있다. 사용자로부터 score를 입력받아 학점을 출력하라.\n",
    "\n",
    "# 점수   \t학점\n",
    "# 81~100\tA\n",
    "# 61~80\t    B\n",
    "# 41~60\t    C\n",
    "# 21~40\t    D\n",
    "# 0~20\t    E\n",
    "\n",
    "user12 = input(\"점수를 입력하세요: \")\n",
    "score = int(user12)\n",
    "\n",
    "if score >= 81 and score <= 100 : \n",
    "    print(\"학점: A\")\n",
    "elif score >= 61 and socre <= 80 :\n",
    "    print(\"학점: B\")\n",
    "elif score >= 41 and socre <= 60 :\n",
    "    print(\"학점: C\")\n",
    "elif score >= 21 and socre <= 40 :\n",
    "    print(\"학점: D\")\n",
    "else :\n",
    "    print(\"학점: E\")"
   ]
  },
  {
   "cell_type": "code",
   "execution_count": 50,
   "id": "80e9e431-217a-40f9-b7a8-6377099b3132",
   "metadata": {},
   "outputs": [
    {
     "name": "stdin",
     "output_type": "stream",
     "text": [
      "입력:  100 유로\n"
     ]
    },
    {
     "name": "stdout",
     "output_type": "stream",
     "text": [
      "126800.0 원\n"
     ]
    }
   ],
   "source": [
    "# 123 사용자로부터 달러, 엔, 유로, 또는 위안 금액을 입력받은 후 이를 원으로 변환하는 프로그램을 작성하라. \n",
    "# 각 통화별 환율은 다음과 같다. 사용자는 100 달러, 1000 엔, 13 유로, 100 위안과 같이 금액과 통화명 사이에 공백을 넣어 입력한다고 가정한다.\n",
    "\n",
    "# 통화명\t환율\n",
    "# 달러\t1167\n",
    "# 엔\t    1.096\n",
    "# 유로\t1268\n",
    "# 위안\t171\n",
    "\n",
    "# 사용자 입력 받기\n",
    "user13 = input(\"입력: \")\n",
    "\n",
    "# 금액과 통화명 분리 후 금액을 float로 변경\n",
    "user13 = user13.split()\n",
    "money = float(user13[0])   # 금액 (float)\n",
    "currancy = user13[-1]      # 통화명 (str)\n",
    "\n",
    "# 통화에 따라 환율 계산\n",
    "if currancy == '달러':\n",
    "    money = money * 1167\n",
    "    print(money, '원')\n",
    "elif currancy == '엔':\n",
    "    money = money * 1.096\n",
    "    print(money, '원')\n",
    "elif currancy == '유로':\n",
    "    money = money * 1268\n",
    "    print(money, '원')\n",
    "else :\n",
    "    money = money * 171\n",
    "    print(money, '원')"
   ]
  },
  {
   "cell_type": "markdown",
   "id": "a72011e2-2379-4bd9-b8c6-883673307013",
   "metadata": {},
   "source": [
    "- 환율 딕셔너리를 만들고, 더 간략한 코드로 만들어보자."
   ]
  },
  {
   "cell_type": "code",
   "execution_count": 64,
   "id": "4e2c0941-cfb6-4e31-9087-c1e577a1bdff",
   "metadata": {},
   "outputs": [
    {
     "name": "stdin",
     "output_type": "stream",
     "text": [
      "입력 100 유로\n"
     ]
    },
    {
     "name": "stdout",
     "output_type": "stream",
     "text": [
      "126800.0 원\n"
     ]
    }
   ],
   "source": [
    "exchange = {\"달러\":1167, \"엔\":1.096, \"유로\":1268, \"위안\":171}\n",
    "\n",
    "user14 = input(\"입력\")   # 사용자 입력 받기\n",
    "money, currancy = user14.split()   # 금액과 통화명 분리\n",
    "print(float(money) * exchange[currancy], \"원\")   # 환율 계산"
   ]
  },
  {
   "cell_type": "code",
   "execution_count": 78,
   "id": "ae0b8323-b28f-4476-a7b5-c99fd5db6d22",
   "metadata": {},
   "outputs": [
    {
     "name": "stdin",
     "output_type": "stream",
     "text": [
      "number1:  1\n",
      "number2:  2\n",
      "number3:  3\n"
     ]
    },
    {
     "name": "stdout",
     "output_type": "stream",
     "text": [
      "<class 'int'> <class 'int'> <class 'int'>\n",
      "3\n"
     ]
    }
   ],
   "source": [
    "# 124 사용자로부터 세 개의 숫자를 입력 받은 후 가장 큰 숫자를 출력하라.\n",
    "\n",
    "num1 = input(\"number1: \")\n",
    "num2 = input(\"number2: \")\n",
    "num3 = input(\"number3: \")\n",
    "\n",
    "a, b, c = int(num1), int(num2), int(num3)\n",
    "print(type(a), type(b), type(c))\n",
    "\n",
    "if a > b :\n",
    "    if  a > c :\n",
    "        print(a)\n",
    "    else :\n",
    "        print(c)\n",
    "            \n",
    "else : \n",
    "    if b > c :\n",
    "        print(b)\n",
    "    else :\n",
    "        print(c)"
   ]
  },
  {
   "cell_type": "markdown",
   "id": "54e8c328-ec05-4c0b-bec4-2bf43bf9bce8",
   "metadata": {},
   "source": [
    "- 더 간단한 코드로 작성해보자"
   ]
  },
  {
   "cell_type": "code",
   "execution_count": 81,
   "id": "b222edb9-2b32-47c6-a423-7fb924900018",
   "metadata": {},
   "outputs": [
    {
     "name": "stdin",
     "output_type": "stream",
     "text": [
      "number1:  5\n",
      "number2:  6\n",
      "number3:  7\n"
     ]
    },
    {
     "name": "stdout",
     "output_type": "stream",
     "text": [
      "7\n"
     ]
    }
   ],
   "source": [
    "num1 = input(\"number1: \")\n",
    "num2 = input(\"number2: \")\n",
    "num3 = input(\"number3: \")\n",
    "\n",
    "a, b, c = int(num1), int(num2), int(num3)\n",
    "\n",
    "if a >= b and a >= c :\n",
    "    print(a)\n",
    "elif b >= a and b >= c :\n",
    "    print(b)\n",
    "else :\n",
    "    print(c)"
   ]
  },
  {
   "cell_type": "markdown",
   "id": "dbf589ba-26e4-4a62-95af-7c339403ab24",
   "metadata": {},
   "source": [
    "-> 정답을 가장 직접적으로, 심플하게 표현하는 코드짜는 연습을 하자!!"
   ]
  },
  {
   "cell_type": "code",
   "execution_count": 97,
   "id": "4f2dae84-5b26-40aa-90c8-adacf2aa808e",
   "metadata": {},
   "outputs": [
    {
     "ename": "SyntaxError",
     "evalue": "leading zeros in decimal integer literals are not permitted; use an 0o prefix for octal integers (2618477226.py, line 9)",
     "output_type": "error",
     "traceback": [
      "\u001b[0;36m  Cell \u001b[0;32mIn[97], line 9\u001b[0;36m\u001b[0m\n\u001b[0;31m    mobile = {011:\"SKT\", 016:\"KT\", 019:\"LGU\", 010:\"알수없음\"}\u001b[0m\n\u001b[0m              ^\u001b[0m\n\u001b[0;31mSyntaxError\u001b[0m\u001b[0;31m:\u001b[0m leading zeros in decimal integer literals are not permitted; use an 0o prefix for octal integers\n"
     ]
    }
   ],
   "source": [
    "# 125 휴대폰 번호 앞자리에 따라 통신사는 아래와 같이 구분된다. 사용자로부터 휴대전화 번호를 입력 받고, 통신사를 출력하는 프로그램을 작성하라.\n",
    "\n",
    "# 번호\t통신사\n",
    "# 011\tSKT\n",
    "# 016\tKT\n",
    "# 019\tLGU\n",
    "# 010\t알수없음\n",
    "\n",
    "mobile = {011:\"SKT\", 016:\"KT\", 019:\"LGU\", 010:\"알수없음\"}\n",
    "\n",
    "# 사용자 번호 입력받기\n",
    "number = input(\"휴대전화 번호 입력: \")\n",
    "a, b, c = number.split('-')\n",
    "phone = int(a)   # 앞 번호\n",
    "\n",
    "# 통신사 구분 및 출력\n",
    "print(mobile[phone])"
   ]
  },
  {
   "cell_type": "code",
   "execution_count": 101,
   "id": "d2f733b5-0ffd-4b00-95b8-2dc2bd8e49b2",
   "metadata": {},
   "outputs": [
    {
     "name": "stdin",
     "output_type": "stream",
     "text": [
      "휴대전화 번호 입력:  011-234-5678\n"
     ]
    },
    {
     "name": "stdout",
     "output_type": "stream",
     "text": [
      "당신은 SKT 사용자입니다.\n"
     ]
    }
   ],
   "source": [
    "# 0으로 시작할 수 없으므로, str으로 바꿔서 다시 시도\n",
    "mobile = {\"011\":\"SKT\", \"016\":\"KT\", \"019\":\"LGU\", \"010\":\"알수없음\"}\n",
    "\n",
    "# 사용자 번호 입력받기\n",
    "number = input(\"휴대전화 번호 입력: \")\n",
    "a, b, c = number.split('-')\n",
    "\n",
    "# 통신사 구분 및 출력\n",
    "print(f'당신은 {mobile[a]} 사용자입니다.')"
   ]
  },
  {
   "cell_type": "code",
   "execution_count": 8,
   "id": "44b7f7ae-cca1-4206-a61f-f1ab78189368",
   "metadata": {},
   "outputs": [
    {
     "name": "stdin",
     "output_type": "stream",
     "text": [
      "우편번호:  01023\n"
     ]
    },
    {
     "ename": "TypeError",
     "evalue": "'int' object is not subscriptable",
     "output_type": "error",
     "traceback": [
      "\u001b[0;31m---------------------------------------------------------------------------\u001b[0m",
      "\u001b[0;31mTypeError\u001b[0m                                 Traceback (most recent call last)",
      "Cell \u001b[0;32mIn[8], line 11\u001b[0m\n\u001b[1;32m      8\u001b[0m post \u001b[38;5;241m=\u001b[39m \u001b[38;5;28minput\u001b[39m(\u001b[38;5;124m\"\u001b[39m\u001b[38;5;124m우편번호: \u001b[39m\u001b[38;5;124m\"\u001b[39m)\n\u001b[1;32m      9\u001b[0m post \u001b[38;5;241m=\u001b[39m \u001b[38;5;28mint\u001b[39m(post)\n\u001b[0;32m---> 11\u001b[0m \u001b[38;5;28;01mif\u001b[39;00m post[\u001b[38;5;241m2\u001b[39m] \u001b[38;5;129;01min\u001b[39;00m post_num\u001b[38;5;241m.\u001b[39mkeys() :\n\u001b[1;32m     12\u001b[0m     \u001b[38;5;28mprint\u001b[39m(post_num[post[\u001b[38;5;241m2\u001b[39m]])\n",
      "\u001b[0;31mTypeError\u001b[0m: 'int' object is not subscriptable"
     ]
    }
   ],
   "source": [
    "# 126 우편번호는 5자리로 구성되는데, 앞의 세자리는 구를 나타낸다. 예를들어, 강북구의 경우 010, 011, 012 세 자리로 시작한다.\n",
    "#    \t0\t    1\t    2\t    3\t    4\t    5\t    6\t    7\t    8    \t9\n",
    "# 01\t강북구\t강북구\t강북구\t도봉구\t도봉구\t도봉구\t노원구\t노원구\t노원구\t노원구\n",
    "# 사용자로부터 5자리 우편번호를 입력받고 구를 판별하라.\n",
    "\n",
    "post_num = {0:\"강북구\", 1:\"강북구\", 2:\"강북구\", 3:\"도봉구\", 4:\"도봉구\", 5:\"도봉구\", 6:\"노원구\", 7:\"노원구\", 8:\"노원구\", 9:\"노원구\"}\n",
    "\n",
    "post = input(\"우편번호: \")\n",
    "post = int(post)\n",
    "\n",
    "if post[2] in post_num.keys() :\n",
    "    print(post_num[post[2]])"
   ]
  },
  {
   "cell_type": "markdown",
   "id": "dd050728-ec32-4157-b68f-37b4ac2200da",
   "metadata": {},
   "source": [
    "-> 정수형은 슬라이싱이 불가능하므로 str형태로 놔둔다."
   ]
  },
  {
   "cell_type": "code",
   "execution_count": 11,
   "id": "3575c078-b998-497e-8bad-254e216a5f5a",
   "metadata": {},
   "outputs": [
    {
     "name": "stdin",
     "output_type": "stream",
     "text": [
      "우편번호:  01055\n"
     ]
    }
   ],
   "source": [
    "post_num = {0:\"강북구\", 1:\"강북구\", 2:\"강북구\", 3:\"도봉구\", 4:\"도봉구\", 5:\"도봉구\", 6:\"노원구\", 7:\"노원구\", 8:\"노원구\", 9:\"노원구\"}\n",
    "\n",
    "post = input(\"우편번호: \")\n",
    "\n",
    "if post[2] in post_num.keys() :\n",
    "    print(post_num[post[2]])"
   ]
  },
  {
   "cell_type": "markdown",
   "id": "c2f63845-b9d2-4929-88c6-81ba1de351f9",
   "metadata": {},
   "source": [
    "-> 구를 판별하지 못한다. 프린트문에서 딕셔너리의 값 출력하는 부분이 수정되어야 할 듯하다.  \n",
    "딕셔너리 내의 키를 str으로 바꿔본다."
   ]
  },
  {
   "cell_type": "code",
   "execution_count": 27,
   "id": "157c8f87-7ec3-413d-93d8-a713bd1bef8e",
   "metadata": {},
   "outputs": [
    {
     "name": "stdin",
     "output_type": "stream",
     "text": [
      "우편번호:  01033\n"
     ]
    },
    {
     "name": "stdout",
     "output_type": "stream",
     "text": [
      "강북구\n"
     ]
    }
   ],
   "source": [
    "post_num = {\"0\":\"강북구\", \"1\":\"강북구\", \"2\":\"강북구\", \"3\":\"도봉구\", \"4\":\"도봉구\", \"5\":\"도봉구\", \"6\":\"노원구\", \"7\":\"노원구\", \"8\":\"노원구\", \"9\":\"노원구\"}\n",
    "\n",
    "post = input(\"우편번호: \")\n",
    "\n",
    "if post[2] in post_num.keys() :\n",
    "    print(post_num[post[2]])"
   ]
  },
  {
   "cell_type": "markdown",
   "id": "9c79a888-713d-4178-bddb-63ef53d1b2f0",
   "metadata": {},
   "source": [
    "- 타입을 잘 맞춰주는 게 정말 중요하다!"
   ]
  },
  {
   "cell_type": "code",
   "execution_count": 30,
   "id": "b40d3693-0d5a-414c-9679-ab233beab7d1",
   "metadata": {},
   "outputs": [
    {
     "name": "stdin",
     "output_type": "stream",
     "text": [
      "주민등록번호:  000123-4555555\n"
     ]
    },
    {
     "name": "stdout",
     "output_type": "stream",
     "text": [
      "여자\n"
     ]
    }
   ],
   "source": [
    "# 127 주민등록번호 뒷 자리 7자리 중 첫째 자리는 성별을 나타내는데, 1, 3은 남자 2, 4는 여자를 의미한다. \n",
    "# 사용자로부터 13자리의 주민등록번호를 입력 받은 후 성별 (남자, 여자)를 출력하는 프로그램을 작성하라.\n",
    "\n",
    "id_num = input(\"주민등록번호: \")\n",
    "\n",
    "if id_num[9] == 1 or id_num[9] == 3 :\n",
    "    print(\"남자\")\n",
    "else :\n",
    "    print(\"여자\")"
   ]
  },
  {
   "cell_type": "code",
   "execution_count": 40,
   "id": "12985c3a-cac9-4af5-a202-d619f072153d",
   "metadata": {},
   "outputs": [
    {
     "name": "stdin",
     "output_type": "stream",
     "text": [
      "주민등록번호:  821010-1635210\n"
     ]
    },
    {
     "name": "stdout",
     "output_type": "stream",
     "text": [
      "63\n",
      "서울이 아닙니다.\n"
     ]
    }
   ],
   "source": [
    "# 128 주민등록번호의 뒷 자리 7자리 중 두번째와 세번째는 지역코드를 의미한다. 주민 등록 번호를 입력 받은 후 출생지가 서울인지 아닌지 판단하는 코드를 작성하라\n",
    "# 지역코드\t출생지\n",
    "# 00 ~ 08\t서울 \n",
    "# 09 ~ 12\t부산\n",
    "\n",
    "seoul = [\"00\", \"01\", \"02\", \"03\", \"04\", \"05\", \"06\", \"07\", \"08\"]\n",
    "busan = [\"09\", \"10\", \"11\", \"12\"]\n",
    "\n",
    "id = input(\"주민등록번호: \")\n",
    "id = id.split('-')[1]    # 주민등록번호 뒷자리\n",
    "print(id[1:3])\n",
    "\n",
    "if id[1:3] in seoul :\n",
    "    print('서울입니다.')\n",
    "else :\n",
    "    print('서울이 아닙니다.')"
   ]
  },
  {
   "cell_type": "markdown",
   "id": "729e787f-e0e7-465a-9c78-21bbde4a0e62",
   "metadata": {},
   "source": [
    "- 더 간단한 코드를 작성해보자.  \n",
    "서울의 지역코드 마지막자리만 슬라이싱하여 구별하기"
   ]
  },
  {
   "cell_type": "code",
   "execution_count": 48,
   "id": "5a6510d4-a28e-464b-a101-9fdd33274934",
   "metadata": {},
   "outputs": [
    {
     "name": "stdin",
     "output_type": "stream",
     "text": [
      "주민등록번호:  000000-0050000\n"
     ]
    },
    {
     "name": "stdout",
     "output_type": "stream",
     "text": [
      "서울입니다.\n"
     ]
    }
   ],
   "source": [
    "id = input(\"주민등록번호: \")\n",
    "id = id.split('-')[1]    # 주민등록번호 뒷자리\n",
    "id_city = int(id[2])\n",
    "\n",
    "if 0 <= id_city <= 8:\n",
    "    print(\"서울입니다.\")\n",
    "\n",
    "else :\n",
    "    print(\"서울이 아닙니다.\")"
   ]
  },
  {
   "cell_type": "code",
   "execution_count": 58,
   "id": "7880a907-3a0d-44c0-bc3e-ee9efe27b258",
   "metadata": {},
   "outputs": [
    {
     "name": "stdin",
     "output_type": "stream",
     "text": [
      "주민등록번호:  123456-1111111\n"
     ]
    },
    {
     "ename": "TypeError",
     "evalue": "'int' object is not iterable",
     "output_type": "error",
     "traceback": [
      "\u001b[0;31m---------------------------------------------------------------------------\u001b[0m",
      "\u001b[0;31mTypeError\u001b[0m                                 Traceback (most recent call last)",
      "Cell \u001b[0;32mIn[58], line 20\u001b[0m\n\u001b[1;32m     18\u001b[0m \u001b[38;5;66;03m# 12자리 숫자에 차례대로 곱한 값들을 더하기\u001b[39;00m\n\u001b[1;32m     19\u001b[0m \u001b[38;5;28;01mfor\u001b[39;00m i \u001b[38;5;129;01min\u001b[39;00m \u001b[38;5;28mrange\u001b[39m(\u001b[38;5;28mlen\u001b[39m(id_number)) :\n\u001b[0;32m---> 20\u001b[0m     \u001b[38;5;28mlist\u001b[39m(i)\n",
      "\u001b[0;31mTypeError\u001b[0m: 'int' object is not iterable"
     ]
    }
   ],
   "source": [
    "# 129 주민등록번호는 13자리로 구성되는데 마지막 자리수는 주민등록번호의 유효성을 체크하는데 사용된다. \n",
    "# 먼저 앞에서부터 12자리의 숫자에 2, 3, 4, 5, 6, 7, 8, 9, 2, 3, 4, 5를 차례로 곱한 뒤 그 값을 전부 더한다. \n",
    "# 연산 결과 값을 11로 나누면 나머지가 나오는데 11에서 나머지를 뺀 값이 주민등록번호의 마지막 번호가 된다.\n",
    "\n",
    "#   8 2 1 0 1 0 - 1 6 3 5 2 1 0\n",
    "# x 2 3 4 5 6 7   8 9 2 3 4 5 \n",
    "# -----------------------------\n",
    "# 1차 계산: (8*2 + 2*3 + 1*4 + 0*5 + 1*6 + 0*7 + 1*8 + 6*9 + 3*2 + 5*3 + 2*4 + 1*5) = (128 % 11) = 7\n",
    "# 2차 계산: 11 -7 = 4\n",
    "\n",
    "# 위와 같이 821010-1635210에 대해서 계산을 해보면 마지막 자리는 4가 되어야 함을 알 수 있다. 즉, 821010-1635210은 유효하지 않은 주민등록번호임을 알 수 있다.\n",
    "# 다음과 같이 사용자로부터 주민등록번호를 입력받은 후 주민등록번호가 유효한지를 출력하는 프로그램을 작성하라.\n",
    "\n",
    "\n",
    "# 사용자 주민등록번호 입력 받기\n",
    "id_number = input(\"주민등록번호: \")\n",
    "\n",
    "# 12자리 숫자에 차례대로 곱한 값들을 더하기\n",
    "for i in range(len(id_number)) :\n",
    "    list(i)\n",
    "\n",
    "# 11로 나눠서 나온 나머지를 11에서 빼기 -> 주민등록번호 마지막 번호와 동일한지 확인"
   ]
  },
  {
   "cell_type": "code",
   "execution_count": 54,
   "id": "66d051c2-3f8a-4be6-ab32-f05684ccac57",
   "metadata": {},
   "outputs": [
    {
     "name": "stdout",
     "output_type": "stream",
     "text": [
      "3\n",
      "4\n",
      "5\n",
      "6\n",
      "7\n",
      "8\n",
      "9\n"
     ]
    }
   ],
   "source": [
    "for j in range(3,10):\n",
    "    print(j))"
   ]
  },
  {
   "cell_type": "code",
   "execution_count": 65,
   "id": "8acd9e6f-fb1b-4bc1-8921-20e9d8238817",
   "metadata": {},
   "outputs": [
    {
     "data": {
      "text/plain": [
       "int"
      ]
     },
     "execution_count": 65,
     "metadata": {},
     "output_type": "execute_result"
    }
   ],
   "source": [
    "type(j)"
   ]
  },
  {
   "cell_type": "markdown",
   "id": "815bac68-9712-4a86-bfd1-8f7b65470e95",
   "metadata": {},
   "source": [
    "-> range로 숫자를 하나씩 뽑으면 int 타입이다. 문자열은 range에 넣을 수 없다."
   ]
  },
  {
   "cell_type": "code",
   "execution_count": 139,
   "id": "ef20060c-d39c-4640-a8ea-6e9052f85cac",
   "metadata": {},
   "outputs": [
    {
     "name": "stdin",
     "output_type": "stream",
     "text": [
      "주민등록번호:  123456-0000000\n"
     ]
    },
    {
     "name": "stdout",
     "output_type": "stream",
     "text": [
      "1234560000000\n",
      "id_num 타입:  <class 'str'>\n"
     ]
    }
   ],
   "source": [
    "# 사용자 주민등록번호 입력 받기\n",
    "id_num = input(\"주민등록번호: \")\n",
    "id_num = id_num.split('-')[0] + id_num.split('-')[1]\n",
    "print(id_num)\n",
    "print(\"id_num 타입: \", type(id_num))"
   ]
  },
  {
   "cell_type": "code",
   "execution_count": 141,
   "id": "805c4638-998f-4d7b-b90a-f63b2d8e5390",
   "metadata": {},
   "outputs": [
    {
     "name": "stdout",
     "output_type": "stream",
     "text": [
      "['1']\n",
      "['2']\n",
      "['3']\n",
      "['4']\n",
      "['5']\n",
      "['6']\n",
      "['0']\n",
      "['0']\n",
      "['0']\n",
      "['0']\n",
      "['0']\n",
      "['0']\n",
      "['0']\n",
      "<class 'str'>\n"
     ]
    }
   ],
   "source": [
    "# 12자리 숫자에 차례대로 곱한 값들을 더하기\n",
    "\n",
    "for i in range(len(id_num)) :\n",
    "    id = id_num[i]\n",
    "    print(list(id))\n",
    "print(type(id))"
   ]
  },
  {
   "cell_type": "markdown",
   "id": "aa8e309f-5b1b-436b-805d-7d2a2b829368",
   "metadata": {},
   "source": [
    "-> 하나의 list에 값들을 넣어주려면 append를 사용해야 한다. (또는 람다 함수 활용)"
   ]
  },
  {
   "cell_type": "markdown",
   "id": "e5c048d5-bcf5-4b83-8670-bcd3c0727cfa",
   "metadata": {},
   "source": [
    " id_list.append(id_num[i])"
   ]
  },
  {
   "cell_type": "code",
   "execution_count": 143,
   "id": "702e05c3-a2a0-47b3-aa43-9c7cb08610bd",
   "metadata": {},
   "outputs": [
    {
     "name": "stdout",
     "output_type": "stream",
     "text": [
      "['1', '2', '3', '4', '5', '6', '0', '0', '0', '0', '0', '0', '0']\n"
     ]
    }
   ],
   "source": [
    "# 12자리 숫자에 차례대로 곱한 값들을 더하기_02\n",
    "\n",
    "id = []\n",
    "\n",
    "for i in range(len(id_num)) :\n",
    "    id.append(id_num[i])\n",
    "    \n",
    "print(id)"
   ]
  },
  {
   "cell_type": "markdown",
   "id": "3aa92f11-ee37-42dc-a0cb-300742acdb95",
   "metadata": {},
   "source": [
    "-> 리스트 안의 값들을 int로 바꿔준다."
   ]
  },
  {
   "cell_type": "code",
   "execution_count": 145,
   "id": "0df8277f-a993-46d4-b606-76041b4ec76e",
   "metadata": {},
   "outputs": [
    {
     "name": "stdout",
     "output_type": "stream",
     "text": [
      "[1, 2, 3, 4, 5, 6, 0, 0, 0, 0, 0, 0, 0]\n"
     ]
    }
   ],
   "source": [
    "# 12자리 숫자에 차례대로 곱한 값들을 더하기_03\n",
    "\n",
    "id = []\n",
    "\n",
    "for i in range(len(id_num)) :\n",
    "    id.append(int(id_num[i]))\n",
    "    \n",
    "print(id)"
   ]
  },
  {
   "cell_type": "code",
   "execution_count": 147,
   "id": "0e090195-f137-4467-8685-6c3756615ab6",
   "metadata": {},
   "outputs": [
    {
     "name": "stdout",
     "output_type": "stream",
     "text": [
      "112\n"
     ]
    }
   ],
   "source": [
    "num = [2, 3, 4, 5, 6, 7, 8, 9, 2, 3, 4, 5]\n",
    "total = 0\n",
    "\n",
    "# id[0] * num[0] + id [1] * num[1] + ...\n",
    "for j in range(len(num)) :\n",
    "    multiply = id[j] * num[j]\n",
    "    total += multiply\n",
    "\n",
    "print(total)"
   ]
  },
  {
   "cell_type": "markdown",
   "id": "d703d7c7-214f-4b52-a50b-16821fc24e19",
   "metadata": {},
   "source": [
    "-> 잘 계산되었다! 나온 값으로 유효성을 확인한다."
   ]
  },
  {
   "cell_type": "code",
   "execution_count": 155,
   "id": "dce80920-dea2-41c9-ae6e-8c25fdfc27e8",
   "metadata": {},
   "outputs": [
    {
     "name": "stdout",
     "output_type": "stream",
     "text": [
      "유효하지 않은 주민등록번호입니다.\n"
     ]
    }
   ],
   "source": [
    "remain = total % 11\n",
    "last_num = 11 - remain\n",
    "\n",
    "if last_num == id_num[-1] :\n",
    "    print(last_num, id_num[-1])\n",
    "    print(\"유효한 주민등록번호입니다.\")\n",
    "\n",
    "else :\n",
    "    print(\"유효하지 않은 주민등록번호입니다.\")"
   ]
  },
  {
   "cell_type": "markdown",
   "id": "f097eb0e-c020-4fdb-90da-f6b668167c8a",
   "metadata": {},
   "source": [
    "- 전체 코드를 한 번에 보기"
   ]
  },
  {
   "cell_type": "code",
   "execution_count": 173,
   "id": "007f63db-d8bb-4e15-a0d4-333f470888a9",
   "metadata": {},
   "outputs": [
    {
     "name": "stdin",
     "output_type": "stream",
     "text": [
      "주민등록번호:  821010-1635210\n"
     ]
    },
    {
     "name": "stdout",
     "output_type": "stream",
     "text": [
      "8210101635210\n",
      "id_num 타입:  <class 'str'>\n",
      "주민등록번호 리스트: [8, 2, 1, 0, 1, 0, 1, 6, 3, 5, 2, 1, 0]\n",
      "주민등록번호 * 검증 숫자 곱의 합산: 128\n",
      "나머지: 7, 나머지-11: 4, 마지막 자리: 0\n",
      "유효하지 않은 주민등록번호입니다.\n"
     ]
    }
   ],
   "source": [
    "# 사용자 주민등록번호 입력 받기\n",
    "id_num = input(\"주민등록번호: \")\n",
    "id_num = id_num.split('-')[0] + id_num.split('-')[1]\n",
    "print(id_num)\n",
    "print(\"id_num 타입: \", type(id_num))\n",
    "\n",
    "# 입력받은 주민등록번호를 int로 변경하고, list에 담기\n",
    "\n",
    "id = []\n",
    "\n",
    "for i in range(len(id_num)) :\n",
    "    id.append(int(id_num[i]))\n",
    "    \n",
    "print(f'주민등록번호 리스트: {id}')\n",
    "\n",
    "\n",
    "# 주민등록번호 * 검증 숫자(num) 곱한 후 모든 값을 더하기\n",
    "num = [2, 3, 4, 5, 6, 7, 8, 9, 2, 3, 4, 5]\n",
    "total = 0\n",
    "\n",
    "# id[0] * num[0] + id [1] * num[1] + ...\n",
    "for j in range(len(num)) :\n",
    "    multiply = id[j] * num[j]\n",
    "    total += multiply\n",
    "\n",
    "print(f'주민등록번호 * 검증 숫자 곱의 합산: {total}')\n",
    "\n",
    "\n",
    "# 유효한 주민등록번호인지 확인하기\n",
    "remain = total % 11\n",
    "last_num = 11 - remain\n",
    "\n",
    "print(f'나머지: {remain}, 나머지-11: {last_num}, 마지막 자리: {id_num[-1]}')\n",
    "\n",
    "if last_num == id_num[-1] :\n",
    "    print(\"유효한 주민등록번호입니다.\")\n",
    "\n",
    "else :\n",
    "    print(\"유효하지 않은 주민등록번호입니다.\")"
   ]
  },
  {
   "cell_type": "markdown",
   "id": "e8ca5e50-4724-48e7-9727-02fb24bcfe03",
   "metadata": {},
   "source": [
    "- 코드를 작성하고 보니 아래와 같이 직접 계산하는 것이 더 간결하고 빠를 것 같다..ㅎㅎ"
   ]
  },
  {
   "cell_type": "code",
   "execution_count": 176,
   "id": "6d592352-dd75-4c80-b0e1-95869a04b0a2",
   "metadata": {},
   "outputs": [],
   "source": [
    "# 참고용\n",
    "\n",
    "# num = input(\"주민등록번호: \")\n",
    "# 계산1 = int(num[0]) * 2 + int(num[1]) * 3 + int(num[2]) * 4 + int(num[3]) * 5 + int(num[4]) * 6 + \\\n",
    "#         int(num[5]) * 7 + int(num[7]) * 8 + int(num[8]) * 9 + int(num[9]) * 2 + int(num[10])* 3 + \\\n",
    "#         int(num[11])* 4 + int(num[12]) * 5\n",
    "# 계산2 = 11 - (계산1 % 11)\n",
    "# 계산3 = str(계산2)\n",
    "\n",
    "# if num[-1] == 계산3[-1]:\n",
    "#     print(\"유효한 주민등록번호입니다.\")\n",
    "# else:\n",
    "#     print(\"유효하지 않은 주민등록번호입니다.\")"
   ]
  },
  {
   "cell_type": "code",
   "execution_count": 182,
   "id": "1fcd4a49-655b-45f7-9efb-4d44e6e5f55b",
   "metadata": {},
   "outputs": [],
   "source": [
    "# 130 아래 코드는 비트코인의 가격 정보를 딕셔너리로 가져오는 코드이다.\n",
    "\n",
    "# import requests\n",
    "# btc = requests.get(\"https://api.bithumb.com/public/ticker/\").json()['data']\n",
    "\n",
    "# btc 딕셔너리 안에는 시가, 종가, 최고가, 최저가 등이 저장되어 있다. \n",
    "# 최고가와 최저가의 차이를 변동폭으로 정의할 때 (시가 + 변동폭)이 최고가 보다 높을 경우 \"상승장\", 그렇지 않은 경우 \"하락장\" 문자열을 출력하라.\n",
    "\n",
    "# Key Name\t     Description\n",
    "# opening_price\t 최근 24시간 내 시작 거래금액\n",
    "# closing_price\t 최근 24시간 내 마지막 거래금액\n",
    "# min_price\t     최근 24시간 내 최저 거래금액\n",
    "# max_price\t     최근 24시간 내 최고 거래금액"
   ]
  },
  {
   "cell_type": "code",
   "execution_count": 184,
   "id": "d3be8e10-f42e-4e3b-b9ef-ed6602c771d6",
   "metadata": {},
   "outputs": [],
   "source": [
    "import requests\n",
    "btc = requests.get(\"https://api.bithumb.com/public/ticker/\").json()['data']"
   ]
  },
  {
   "cell_type": "code",
   "execution_count": 197,
   "id": "40ea4af5-958d-4f21-9b00-2996f8a73179",
   "metadata": {},
   "outputs": [
    {
     "name": "stdout",
     "output_type": "stream",
     "text": [
      "{\n",
      "    \"opening_price\": \"80758000\",\n",
      "    \"closing_price\": \"80955000\",\n",
      "    \"min_price\": \"77800000\",\n",
      "    \"max_price\": \"82760000\",\n",
      "    \"units_traded\": \"1393.81896994\",\n",
      "    \"acc_trade_value\": \"111416045970.05521\",\n",
      "    \"prev_closing_price\": \"80761000\",\n",
      "    \"units_traded_24H\": \"1435.69673863\",\n",
      "    \"acc_trade_value_24H\": \"114795952533.67785\",\n",
      "    \"fluctate_24H\": \"276000\",\n",
      "    \"fluctate_rate_24H\": \"0.34\",\n",
      "    \"date\": \"1720447553986\"\n",
      "}\n"
     ]
    }
   ],
   "source": [
    "# btc에 어떤 데이터들이 있는지 확인하기\n",
    "\n",
    "import json\n",
    "print(json.dumps(btc, indent=4))"
   ]
  },
  {
   "cell_type": "markdown",
   "id": "f46a7cc1-a3f9-43ba-a90d-fed2610c61bf",
   "metadata": {},
   "source": [
    "json 형식의 문자열로 변환했기 때문에 딕셔너리로 저장되어 있다. 해당 값들을 활용하면 된다."
   ]
  },
  {
   "cell_type": "code",
   "execution_count": 192,
   "id": "b1c86639-548f-44e2-8793-ca6b7ee6adcc",
   "metadata": {},
   "outputs": [],
   "source": [
    "# 변동폭\n",
    "gap = float(btc['max_price']) - float(btc['min_price'])\n",
    "# 시가\n",
    "opening_p = float(btc['opening_price'])\n",
    "# 최고가\n",
    "max_p = float(btc['max_price'])"
   ]
  },
  {
   "cell_type": "code",
   "execution_count": 200,
   "id": "5ad2ebc9-03e4-4895-90e6-e64d2569c6e1",
   "metadata": {},
   "outputs": [
    {
     "name": "stdout",
     "output_type": "stream",
     "text": [
      "상승장\n"
     ]
    }
   ],
   "source": [
    "if opening_p + gap > max_p :\n",
    "    print(\"상승장\")\n",
    "else :\n",
    "    print(\"하락장\")"
   ]
  },
  {
   "cell_type": "code",
   "execution_count": 195,
   "id": "31a50b95-b06e-4ffa-9a85-fa4708015902",
   "metadata": {},
   "outputs": [],
   "source": [
    "# json 파일 읽기 쉽게 출력하는 법\n",
    "# print(json.dumps(btc, indent=4))\n",
    "# - json.dumps(btc): json 모듈의 이 함수는 btc 사전을 JSON 형식의 문자열로 변환합니다.\n",
    "# - indent=4: 이 인수는 들여쓰기에 사용할 공백 수를 지정하여, JSON 구조의 다른 레벨을 시각적으로 구분해 출력이 더 읽기 쉽게 만듭니다."
   ]
  },
  {
   "cell_type": "markdown",
   "id": "b32b99e6-870d-46c9-8527-813a01ac3c88",
   "metadata": {},
   "source": [
    "---"
   ]
  },
  {
   "cell_type": "markdown",
   "id": "4be425b5-d34d-4f45-94b3-f8d709a5b95a",
   "metadata": {},
   "source": [
    "## 회고\n",
    "129번에서 처음으로 복잡한 조건들을 만족시키는, 함수화 할 수 있는 코드를 만든 것이 가장 뿌듯하다.  \n",
    "역시 하나하나씩 해결해나가면 뭐든 할 수 있다!!"
   ]
  }
 ],
 "metadata": {
  "kernelspec": {
   "display_name": "Python 3 (ipykernel)",
   "language": "python",
   "name": "python3"
  },
  "language_info": {
   "codemirror_mode": {
    "name": "ipython",
    "version": 3
   },
   "file_extension": ".py",
   "mimetype": "text/x-python",
   "name": "python",
   "nbconvert_exporter": "python",
   "pygments_lexer": "ipython3",
   "version": "3.11.7"
  }
 },
 "nbformat": 4,
 "nbformat_minor": 5
}
