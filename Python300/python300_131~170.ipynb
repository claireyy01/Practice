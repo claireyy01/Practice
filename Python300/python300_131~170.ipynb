{
 "cells": [
  {
   "cell_type": "markdown",
   "id": "689a82ed-413a-47e5-9414-3ef4ed484b07",
   "metadata": {},
   "source": [
    "# 파이썬 300제 : 반복문 (131~160)\n"
   ]
  },
  {
   "cell_type": "markdown",
   "id": "93413361-2350-4b0d-8af5-f570d4c67cb2",
   "metadata": {},
   "source": [
    "## 회고\n",
    "- for문은 들여쓰기된 코드가 자료구조의 데이터 개수만큼 반복된다는 사실이 중요하다는 걸 느꼈다. (140번)\n",
    "- 일정한 규칙의 숫자를 뽑을 때 range를 사용하거나 연산의 나머지를 사용하는 등 다양하게 문제를 풀 수 있다는 사실이 재미있었다.\n",
    "- .format 이라는 유용한 걸 배웠다!\n",
    "\n",
    "아래는 2024.07.10(수)에 풀이한 내용입니다."
   ]
  },
  {
   "cell_type": "markdown",
   "id": "9883906e-2336-44f5-aa93-48060ae76414",
   "metadata": {},
   "source": [
    "## 131~140"
   ]
  },
  {
   "cell_type": "code",
   "execution_count": 8,
   "id": "99c8d89c-3069-4739-8592-d77bc26ee1f5",
   "metadata": {},
   "outputs": [
    {
     "name": "stdout",
     "output_type": "stream",
     "text": [
      "사과\n",
      "귤\n",
      "수박\n"
     ]
    }
   ],
   "source": [
    "# 131 for문의 실행결과를 예측하라.\n",
    "\n",
    "과일 = [\"사과\", \"귤\", \"수박\"]\n",
    "for 변수 in 과일:\n",
    "    print(변수)\n",
    "\n",
    "# 예측하기\n",
    "# 사과\n",
    "# 귤\n",
    "# 수박"
   ]
  },
  {
   "cell_type": "code",
   "execution_count": 12,
   "id": "2474cc39-dd6e-4399-a8a9-68a9943d60d8",
   "metadata": {},
   "outputs": [
    {
     "name": "stdout",
     "output_type": "stream",
     "text": [
      "#####\n",
      "#####\n",
      "#####\n"
     ]
    }
   ],
   "source": [
    "# 132 for문의 실행결과를 예측하라.\n",
    "\n",
    "과일 = [\"사과\", \"귤\", \"수박\"]\n",
    "for 변수 in 과일:\n",
    "  print(\"#####\")\n",
    "\n",
    "# 예측하기\n",
    "# #####\n",
    "# #####\n",
    "# #####"
   ]
  },
  {
   "cell_type": "code",
   "execution_count": 14,
   "id": "596ee51f-5413-4361-8574-0fc92b9a996e",
   "metadata": {},
   "outputs": [
    {
     "name": "stdout",
     "output_type": "stream",
     "text": [
      "A\n",
      "B\n",
      "C\n"
     ]
    }
   ],
   "source": [
    "# 133 다음 for 문과 동일한 기능을 수행하는 코드를 작성하세요.\n",
    "\n",
    "for 변수 in [\"A\", \"B\", \"C\"]:\n",
    "  print(변수)"
   ]
  },
  {
   "cell_type": "code",
   "execution_count": 16,
   "id": "9d235f3b-afa7-4690-ac64-bcbdc60d7d86",
   "metadata": {},
   "outputs": [
    {
     "name": "stdout",
     "output_type": "stream",
     "text": [
      "A\n",
      "B\n",
      "C\n"
     ]
    }
   ],
   "source": [
    "print(\"A\")\n",
    "print(\"B\")\n",
    "print(\"C\")"
   ]
  },
  {
   "cell_type": "code",
   "execution_count": 18,
   "id": "3d4f0062-db96-4e23-b33b-6f5698a55ee9",
   "metadata": {},
   "outputs": [
    {
     "name": "stdout",
     "output_type": "stream",
     "text": [
      "출력: A\n",
      "출력: B\n",
      "출력: C\n"
     ]
    }
   ],
   "source": [
    "# 134 for문을 풀어서 동일한 동작을 하는 코드를 작성하라.\n",
    "for 변수 in [\"A\", \"B\", \"C\"]:\n",
    "  print(\"출력:\", 변수)"
   ]
  },
  {
   "cell_type": "code",
   "execution_count": 20,
   "id": "1c92c474-b7af-4fb6-bc64-9c623840cdaa",
   "metadata": {},
   "outputs": [
    {
     "name": "stdout",
     "output_type": "stream",
     "text": [
      "출력: A\n",
      "출력: B\n",
      "출력: C\n"
     ]
    }
   ],
   "source": [
    "print(\"출력: A\")\n",
    "print(\"출력: B\")\n",
    "print(\"출력: C\")"
   ]
  },
  {
   "cell_type": "code",
   "execution_count": 22,
   "id": "96504a92-34fc-4519-9c93-72adc7f3a576",
   "metadata": {},
   "outputs": [
    {
     "name": "stdout",
     "output_type": "stream",
     "text": [
      "변환: a\n",
      "변환: b\n",
      "변환: c\n"
     ]
    }
   ],
   "source": [
    "# 135 for문을 풀어서 동일한 동작을 하는 코드를 작성하라.\n",
    "for 변수 in [\"A\", \"B\", \"C\"]:\n",
    "  b = 변수.lower()\n",
    "  print(\"변환:\", b)"
   ]
  },
  {
   "cell_type": "code",
   "execution_count": 28,
   "id": "c4ba5fd4-a366-4b8e-9416-8f9d57f774d9",
   "metadata": {},
   "outputs": [
    {
     "name": "stdout",
     "output_type": "stream",
     "text": [
      "변환: a\n",
      "변환: b\n",
      "변환: c\n"
     ]
    }
   ],
   "source": [
    "x = \"A\"\n",
    "b = x.lower()\n",
    "print(\"변환:\", b)\n",
    "\n",
    "y = \"B\"\n",
    "b = y.lower()\n",
    "print(\"변환:\", b)\n",
    "\n",
    "z = \"C\"\n",
    "b = z.lower()\n",
    "print(\"변환:\", b)"
   ]
  },
  {
   "cell_type": "code",
   "execution_count": 30,
   "id": "4bea9b5d-3206-4b3b-9e31-c137331ea944",
   "metadata": {},
   "outputs": [
    {
     "name": "stdout",
     "output_type": "stream",
     "text": [
      "10\n",
      "20\n",
      "30\n"
     ]
    }
   ],
   "source": [
    "# 136 다음 코드를 for문으로 작성하라.\n",
    "\n",
    "# 변수 = 10\n",
    "# print(변수)\n",
    "# 변수 = 20\n",
    "# print(변수)\n",
    "# 변수 = 30\n",
    "# print(변수)\n",
    "\n",
    "for i in [10, 20, 30] :\n",
    "    print(i)"
   ]
  },
  {
   "cell_type": "code",
   "execution_count": 32,
   "id": "e161cd64-d9f4-4330-aae3-3c137337591a",
   "metadata": {},
   "outputs": [],
   "source": [
    "# 137 다음 코드를 for문으로 작성하라.\n",
    "\n",
    "# print(10)\n",
    "# print(20)\n",
    "# print(30)"
   ]
  },
  {
   "cell_type": "markdown",
   "id": "12848aee-4dce-460f-83f2-77377142c28a",
   "metadata": {},
   "source": [
    "-> 136번과 동일한 코드이다."
   ]
  },
  {
   "cell_type": "code",
   "execution_count": 35,
   "id": "ce2c726f-922e-4911-9078-d9080028f5c2",
   "metadata": {},
   "outputs": [
    {
     "name": "stdout",
     "output_type": "stream",
     "text": [
      "10\n",
      "-------\n",
      "20\n",
      "-------\n",
      "30\n",
      "-------\n"
     ]
    }
   ],
   "source": [
    "# 138 다음 코드를 for문으로 작성하라.\n",
    "\n",
    "# print(10)\n",
    "# print(\"-------\")\n",
    "# print(20)\n",
    "# print(\"-------\")\n",
    "# print(30)\n",
    "# print(\"-------\")\n",
    "\n",
    "for i in [10, 20, 30]:\n",
    "    print(i)\n",
    "    print(\"-------\")"
   ]
  },
  {
   "cell_type": "code",
   "execution_count": 37,
   "id": "779c36e2-d8dd-41b6-bf20-99614d460ed4",
   "metadata": {},
   "outputs": [
    {
     "name": "stdout",
     "output_type": "stream",
     "text": [
      "++++\n",
      "10\n",
      "20\n",
      "30\n"
     ]
    }
   ],
   "source": [
    "# 139 다음 코드를 for문으로 작성하라.\n",
    "\n",
    "# print(\"++++\")\n",
    "# print(10)\n",
    "# print(20)\n",
    "# print(30)\n",
    "\n",
    "for i in [\"++++\", \"10\", \"20\", \"30\"]:\n",
    "    print(i)"
   ]
  },
  {
   "cell_type": "markdown",
   "id": "f27515fa-c954-44fd-ab57-798fc36fc4d8",
   "metadata": {},
   "source": [
    "-> 또는 str, int를 구분하여 작성이 가능하다."
   ]
  },
  {
   "cell_type": "code",
   "execution_count": 40,
   "id": "533ca5f4-3590-475b-b619-001b6ce9e892",
   "metadata": {},
   "outputs": [
    {
     "name": "stdout",
     "output_type": "stream",
     "text": [
      "++++\n",
      "10\n",
      "20\n",
      "30\n"
     ]
    }
   ],
   "source": [
    "print(\"++++\")\n",
    "\n",
    "for i in [10, 20, 30]:\n",
    "    print(i)"
   ]
  },
  {
   "cell_type": "code",
   "execution_count": 45,
   "id": "b941d840-eb72-462a-bb66-a41f0dd2a9c6",
   "metadata": {},
   "outputs": [
    {
     "name": "stdout",
     "output_type": "stream",
     "text": [
      "-------\n",
      "-------\n",
      "-------\n",
      "-------\n"
     ]
    }
   ],
   "source": [
    "# 140 다음 코드를 for문으로 작성하라.\n",
    "\n",
    "# print(\"-------\")\n",
    "# print(\"-------\")\n",
    "# print(\"-------\")\n",
    "# print(\"-------\")\n",
    "\n",
    "for i in [\"-------\", \"-------\", \"-------\", \"-------\"]:\n",
    "    print(i)"
   ]
  },
  {
   "cell_type": "markdown",
   "id": "49f25cc2-9046-4119-a46f-7722cfdeda59",
   "metadata": {},
   "source": [
    "-> 파이썬 for문은 들여쓰기된 코드가 자료구조의 데이터 개수만큼 반복된다. 따라서 아래와 같이 작성할 수도 있다."
   ]
  },
  {
   "cell_type": "code",
   "execution_count": 48,
   "id": "420289b9-522e-44dd-b96a-7dc13f3636e8",
   "metadata": {},
   "outputs": [
    {
     "name": "stdout",
     "output_type": "stream",
     "text": [
      "-------\n",
      "-------\n",
      "-------\n",
      "-------\n"
     ]
    }
   ],
   "source": [
    "for i in [1, 2, 3, 4]:\n",
    "    print(\"-------\")"
   ]
  },
  {
   "cell_type": "markdown",
   "id": "e51ed46f-db9f-4ef0-9898-7513752e56dc",
   "metadata": {},
   "source": [
    "## 141~150"
   ]
  },
  {
   "cell_type": "code",
   "execution_count": 53,
   "id": "7db7388d-81bd-4b17-9819-b156ba5a866a",
   "metadata": {},
   "outputs": [
    {
     "name": "stdout",
     "output_type": "stream",
     "text": [
      "110\n",
      "210\n",
      "310\n"
     ]
    }
   ],
   "source": [
    "# 141 다음과 같이 판매가가 저장된 리스트가 있을 때 부가세가 포함된 가격을 for 문을 사용해서 화면에 출력하라. 단 부가세는 10원으로 가정한다.\n",
    "\n",
    "리스트 = [100, 200, 300]\n",
    "\n",
    "for i in 리스트:\n",
    "    i = i + 10\n",
    "    print(i)"
   ]
  },
  {
   "cell_type": "code",
   "execution_count": 55,
   "id": "57d8dd76-cd1c-4663-af4b-51a8b46a4040",
   "metadata": {},
   "outputs": [
    {
     "name": "stdout",
     "output_type": "stream",
     "text": [
      "오늘의 메뉴: 김밥\n",
      "오늘의 메뉴: 라면\n",
      "오늘의 메뉴: 튀김\n"
     ]
    }
   ],
   "source": [
    "# 142 for 문을 사용해서 리스트에 저장된 값을 다음과 같이 출력하라.\n",
    "리스트 = [\"김밥\", \"라면\", \"튀김\"]\n",
    "\n",
    "# 오늘의 메뉴: 김밥\n",
    "# 오늘의 메뉴: 라면\n",
    "# 오늘의 메뉴: 튀김\n",
    "\n",
    "for i in 리스트:\n",
    "    print(\"오늘의 메뉴:\", i)"
   ]
  },
  {
   "cell_type": "code",
   "execution_count": 63,
   "id": "fd557657-da48-4f36-9d11-518e70285bbb",
   "metadata": {},
   "outputs": [
    {
     "name": "stdout",
     "output_type": "stream",
     "text": [
      "6\n",
      "4\n",
      "4\n"
     ]
    }
   ],
   "source": [
    "# 143 리스트에 주식 종목이름이 저장돼 있다.\n",
    "리스트 = [\"SK하이닉스\", \"삼성전자\", \"LG전자\"]\n",
    "# 저장된 문자열의 길이를 다음과 같이 출력하라.\n",
    "# 6\n",
    "# 4\n",
    "# 4\n",
    "\n",
    "for i in 리스트:\n",
    "    print(len(i))"
   ]
  },
  {
   "cell_type": "markdown",
   "id": "e995ec99-9cd4-437e-9267-0366144a57e0",
   "metadata": {},
   "source": [
    "- 문자열의 길이는 len(), 문자의 개수는 count()로 센다."
   ]
  },
  {
   "cell_type": "code",
   "execution_count": 66,
   "id": "ff12f960-6131-4418-ba3c-7d0cd59f3bdb",
   "metadata": {},
   "outputs": [
    {
     "name": "stdout",
     "output_type": "stream",
     "text": [
      "dog 3\n",
      "cat 3\n",
      "parrot 6\n"
     ]
    }
   ],
   "source": [
    "# 144 리스트에는 동물이름이 문자열로 저장돼 있다.\n",
    "리스트 = ['dog', 'cat', 'parrot']\n",
    "# 동물 이름과 글자수를 다음과 같이 출력하라.\n",
    "# dog 3\n",
    "# cat 3\n",
    "# parrot 6\n",
    "\n",
    "for i in 리스트:\n",
    "    print(i, len(i))"
   ]
  },
  {
   "cell_type": "code",
   "execution_count": 68,
   "id": "51b4f8e6-149d-451d-9ed7-3c3c5db0b60b",
   "metadata": {},
   "outputs": [
    {
     "name": "stdout",
     "output_type": "stream",
     "text": [
      "d\n",
      "c\n",
      "p\n"
     ]
    }
   ],
   "source": [
    "# 145 리스트에 동물 이름 저장돼 있다.\n",
    "리스트 = ['dog', 'cat', 'parrot']\n",
    "# for문을 사용해서 동물 이름의 첫 글자만 출력하라.\n",
    "# d\n",
    "# c\n",
    "# p\n",
    "\n",
    "for i in 리스트:\n",
    "    print(i[0])"
   ]
  },
  {
   "cell_type": "code",
   "execution_count": 70,
   "id": "e1779246-c163-417a-aebf-208f4df61a64",
   "metadata": {},
   "outputs": [
    {
     "name": "stdout",
     "output_type": "stream",
     "text": [
      "3 x 1\n",
      "3 x 2\n",
      "3 x 3\n"
     ]
    }
   ],
   "source": [
    "# 146 리스트에는 세 개의 숫자가 바인딩돼 있다.\n",
    "리스트 = [1, 2, 3]\n",
    "# for문을 사용해서 다음과 같이 출력하라.\n",
    "# 3 x 1\n",
    "# 3 x 2\n",
    "# 3 x 3\n",
    "\n",
    "for i in 리스트:\n",
    "    print(\"3 x\", i)"
   ]
  },
  {
   "cell_type": "code",
   "execution_count": 74,
   "id": "2432af27-c0ca-43d1-96a9-6072298abbcf",
   "metadata": {},
   "outputs": [
    {
     "name": "stdout",
     "output_type": "stream",
     "text": [
      "3 X 1 = 3\n",
      "3 X 2 = 6\n",
      "3 X 3 = 9\n"
     ]
    }
   ],
   "source": [
    "# 147 리스트에는 세 개의 숫자가 바인딩돼 있다.\n",
    "리스트 = [1, 2, 3]\n",
    "# for문을 사용해서 다음과 같이 출력하라.\n",
    "# 3 x 1 = 3\n",
    "# 3 x 2 = 6\n",
    "# 3 x 3 = 9\n",
    "\n",
    "for i in 리스트:\n",
    "    print(\"3 X\", i, \"=\", 3*i)"
   ]
  },
  {
   "cell_type": "markdown",
   "id": "d79d1b0f-73b1-4f79-8855-9a8781e2ec77",
   "metadata": {},
   "source": [
    "-> 다음과 같이 문자열 함수를 활용할 수도 있다.  \n",
    "원하는 형식을 str으로 작성하고 .format()을 붙인 뒤, format()안에 빈 칸에 들어갈 내용을 차례대로 넣는다."
   ]
  },
  {
   "cell_type": "code",
   "execution_count": 77,
   "id": "cc4d5a34-fca0-4eef-af7c-49091e180cf7",
   "metadata": {},
   "outputs": [
    {
     "name": "stdout",
     "output_type": "stream",
     "text": [
      "3 X 1 = 3\n",
      "3 X 2 = 6\n",
      "3 X 3 = 9\n"
     ]
    }
   ],
   "source": [
    "리스트 = [1, 2, 3]\n",
    "\n",
    "for i in 리스트:\n",
    "    print(\"3 X {} = {}\".format(i, i*3))"
   ]
  },
  {
   "cell_type": "code",
   "execution_count": 82,
   "id": "ed734ee7-cd8f-456b-9d39-b893abd28c2a",
   "metadata": {},
   "outputs": [
    {
     "name": "stdout",
     "output_type": "stream",
     "text": [
      "나\n",
      "다\n",
      "라\n"
     ]
    }
   ],
   "source": [
    "# 148 리스트에는 네 개의 문자열이 바인딩돼 있다.\n",
    "리스트 = [\"가\", \"나\", \"다\", \"라\"]\n",
    "# for문을 사용해서 다음과 같이 출력하라.\n",
    "# 나\n",
    "# 다\n",
    "# 라\n",
    "\n",
    "for i in 리스트[1:]:\n",
    "    print((i))"
   ]
  },
  {
   "cell_type": "code",
   "execution_count": 88,
   "id": "a94a13ba-be74-46d3-8c48-92f1ca2fc25d",
   "metadata": {},
   "outputs": [
    {
     "name": "stdout",
     "output_type": "stream",
     "text": [
      "가\n",
      "다\n"
     ]
    }
   ],
   "source": [
    "# 149 리스트에는 네 개의 문자열이 바인딩돼 있다.\n",
    "\n",
    "리스트 = [\"가\", \"나\", \"다\", \"라\"]\n",
    "# for문을 사용해서 다음과 같이 출력하라.\n",
    "\n",
    "# 가\n",
    "# 다\n",
    "\n",
    "for i in 리스트[::2]:\n",
    "    print(i)"
   ]
  },
  {
   "cell_type": "markdown",
   "id": "5b78db4f-96fa-4b0d-8a02-3b4a2fe7ee1b",
   "metadata": {},
   "source": [
    "- 참고 : 리스트 슬라이싱에서 `[시작:끝:증감폭] ` 세번째 값은 값을 가져오는 단위(step)를 의미한다."
   ]
  },
  {
   "cell_type": "code",
   "execution_count": 91,
   "id": "d6a661fa-9bae-4cfe-9644-e86b92ce2266",
   "metadata": {},
   "outputs": [
    {
     "name": "stdout",
     "output_type": "stream",
     "text": [
      "라\n",
      "다\n",
      "나\n",
      "가\n"
     ]
    }
   ],
   "source": [
    "# 150 리스트에는 네 개의 문자열이 바인딩돼 있다.\n",
    "\n",
    "리스트 = [\"가\", \"나\", \"다\", \"라\"]\n",
    "# for문을 사용해서 다음과 같이 출력하라.\n",
    "\n",
    "# 라\n",
    "# 다\n",
    "# 나\n",
    "# 가\n",
    "\n",
    "for i in 리스트[::-1]:\n",
    "    print(i)"
   ]
  },
  {
   "cell_type": "markdown",
   "id": "9e64e040-9f0d-4ab6-af48-c318a3a4290f",
   "metadata": {},
   "source": [
    "- [파이썬 슬라이싱 참조 블로그](https://codetorial.net/tips_and_examples/list_slicing.html)"
   ]
  },
  {
   "cell_type": "markdown",
   "id": "43988e46-a1f6-4cdb-a34d-41d048311334",
   "metadata": {
    "jp-MarkdownHeadingCollapsed": true
   },
   "source": [
    "## 151~160"
   ]
  },
  {
   "cell_type": "code",
   "execution_count": 97,
   "id": "691e072f-0b94-4df6-b039-40a32ab57a24",
   "metadata": {},
   "outputs": [
    {
     "name": "stdout",
     "output_type": "stream",
     "text": [
      "-20\n",
      "-3\n"
     ]
    }
   ],
   "source": [
    "# 151 리스트에는 네 개의 정수가 저장돼 있다.\n",
    "리스트 = [3, -20, -3, 44]\n",
    "\n",
    "# for문을 사용해서 리스트의 음수를 출력하라.\n",
    "# -20\n",
    "# -3\n",
    "\n",
    "for i in 리스트:\n",
    "    if i < 0:\n",
    "        print(i)"
   ]
  },
  {
   "cell_type": "code",
   "execution_count": 99,
   "id": "dc0e8013-3697-4ed5-b37b-3725c16c80b2",
   "metadata": {},
   "outputs": [
    {
     "name": "stdout",
     "output_type": "stream",
     "text": [
      "3\n"
     ]
    }
   ],
   "source": [
    "# 152 for문을 사용해서 3의 배수만을 출력하라.\n",
    "리스트 = [3, 100, 23, 44]\n",
    "# 3\n",
    "\n",
    "for i in 리스트:\n",
    "    if i % 3 == 0:\n",
    "        print(i)"
   ]
  },
  {
   "cell_type": "code",
   "execution_count": 101,
   "id": "e3423a1e-81a1-454e-9471-3b51cc4b691b",
   "metadata": {},
   "outputs": [
    {
     "name": "stdout",
     "output_type": "stream",
     "text": [
      "12\n",
      "18\n"
     ]
    }
   ],
   "source": [
    "# 153 리스트에서 20 보다 작은 3의 배수를 출력하라\n",
    "리스트 = [13, 21, 12, 14, 30, 18]\n",
    "\n",
    "# 12\n",
    "# 18\n",
    "\n",
    "for i in 리스트: \n",
    "    if i < 20 and i % 3 == 0:\n",
    "        print(i)"
   ]
  },
  {
   "cell_type": "code",
   "execution_count": 103,
   "id": "d8704bbc-12cb-4d81-aa82-31d779953788",
   "metadata": {},
   "outputs": [
    {
     "name": "stdout",
     "output_type": "stream",
     "text": [
      "study\n",
      "python\n",
      "language\n"
     ]
    }
   ],
   "source": [
    "# 154 리스트에서 세 글자 이상의 문자를 화면에 출력하라\n",
    "리스트 = [\"I\", \"study\", \"python\", \"language\", \"!\"]\n",
    "\n",
    "# study\n",
    "# python\n",
    "# language\n",
    "\n",
    "for i in 리스트:\n",
    "    if len(i) >= 3:\n",
    "        print(i)"
   ]
  },
  {
   "cell_type": "code",
   "execution_count": 113,
   "id": "9a7fef39-ad50-4a12-9229-f470396eb5c5",
   "metadata": {},
   "outputs": [
    {
     "name": "stdout",
     "output_type": "stream",
     "text": [
      "A\n",
      "D\n"
     ]
    }
   ],
   "source": [
    "# 155 리스트에서 대문자만 화면에 출력하라.\n",
    "리스트 = [\"A\", \"b\", \"c\", \"D\"]\n",
    "\n",
    "# A\n",
    "# D\n",
    "\n",
    "for i in 리스트:\n",
    "    if i.isupper():\n",
    "        print(i)"
   ]
  },
  {
   "cell_type": "code",
   "execution_count": 115,
   "id": "76e29426-7bf3-4291-a4b0-17f3e15faec1",
   "metadata": {},
   "outputs": [
    {
     "name": "stdout",
     "output_type": "stream",
     "text": [
      "b\n",
      "c\n"
     ]
    }
   ],
   "source": [
    "# 156 리스트에서 소문자만 화면에 출력하라.\n",
    "리스트 = [\"A\", \"b\", \"c\", \"D\"]\n",
    "\n",
    "# b\n",
    "# c\n",
    "\n",
    "for i in 리스트: \n",
    "    if i.islower():\n",
    "        print(i)"
   ]
  },
  {
   "cell_type": "code",
   "execution_count": 119,
   "id": "a8866fdc-15de-4e91-84e0-1327fd6ed6a5",
   "metadata": {},
   "outputs": [
    {
     "name": "stdout",
     "output_type": "stream",
     "text": [
      "Dog\n",
      "Cat\n",
      "Parrot\n"
     ]
    }
   ],
   "source": [
    "#157 이름의 첫 글자를 대문자로 변경해서 출력하라.\n",
    "\n",
    "리스트 = ['dog', 'cat', 'parrot']\n",
    "# Dog\n",
    "# Cat\n",
    "# Parrot\n",
    "\n",
    "for i in 리스트:\n",
    "    print(i.capitalize())"
   ]
  },
  {
   "cell_type": "code",
   "execution_count": 127,
   "id": "f8998305-6553-41c9-8470-529e83bd6df7",
   "metadata": {},
   "outputs": [
    {
     "name": "stdout",
     "output_type": "stream",
     "text": [
      "hello\n",
      "ex01\n",
      "intro\n"
     ]
    }
   ],
   "source": [
    "# 158 파일 이름이 저장된 리스트에서 확장자를 제거하고 파일 이름만 화면에 출력하라. \n",
    "\n",
    "리스트 = ['hello.py', 'ex01.py', 'intro.hwp']\n",
    "# hello\n",
    "# ex01\n",
    "# intro\n",
    "\n",
    "for i in 리스트: \n",
    "    print(i.split(\".\")[0])"
   ]
  },
  {
   "cell_type": "code",
   "execution_count": 4,
   "id": "ae503f27-add2-4d84-835d-fa3b00b98efc",
   "metadata": {},
   "outputs": [
    {
     "name": "stdout",
     "output_type": "stream",
     "text": [
      "intra.h\n",
      "define.h\n"
     ]
    }
   ],
   "source": [
    "# 159 파일 이름이 저장된 리스트에서 확장자가 .h인 파일 이름을 출력하라.\n",
    "\n",
    "리스트 = ['intra.h', 'intra.c', 'define.h', 'run.py']\n",
    "# intra.h\n",
    "# define.h\n",
    "\n",
    "for i in 리스트:\n",
    "    if i.split(\".\")[1] == \"h\":\n",
    "        print(i)"
   ]
  },
  {
   "cell_type": "code",
   "execution_count": 8,
   "id": "2aba280f-58be-4571-a48a-7a9877dc8b93",
   "metadata": {},
   "outputs": [
    {
     "name": "stdout",
     "output_type": "stream",
     "text": [
      "intra.h\n",
      "intra.c\n",
      "define.h\n"
     ]
    }
   ],
   "source": [
    "# 160 파일 이름이 저장된 리스트에서 확장자가 .h나 .c인 파일을 화면에 출력하라.\n",
    "\n",
    "리스트 = ['intra.h', 'intra.c', 'define.h', 'run.py']\n",
    "# intra.h\n",
    "# intra.c\n",
    "# define.h\n",
    "\n",
    "for i in 리스트:\n",
    "    if (i.split(\".\")[1] == \"h\") or (i.split(\".\")[1] == \"c\"):\n",
    "        print(i)"
   ]
  },
  {
   "cell_type": "markdown",
   "id": "2b3626dc-88c6-4c84-b3ab-6775e2d5c496",
   "metadata": {},
   "source": [
    "## 161~170"
   ]
  },
  {
   "cell_type": "code",
   "execution_count": 13,
   "id": "36e23204-e9ec-45de-8747-a6c240c097b6",
   "metadata": {},
   "outputs": [
    {
     "name": "stdout",
     "output_type": "stream",
     "text": [
      "0\n",
      "1\n",
      "2\n",
      "3\n",
      "4\n",
      "5\n",
      "6\n",
      "7\n",
      "8\n",
      "9\n",
      "10\n",
      "11\n",
      "12\n",
      "13\n",
      "14\n",
      "15\n",
      "16\n",
      "17\n",
      "18\n",
      "19\n",
      "20\n",
      "21\n",
      "22\n",
      "23\n",
      "24\n",
      "25\n",
      "26\n",
      "27\n",
      "28\n",
      "29\n",
      "30\n",
      "31\n",
      "32\n",
      "33\n",
      "34\n",
      "35\n",
      "36\n",
      "37\n",
      "38\n",
      "39\n",
      "40\n",
      "41\n",
      "42\n",
      "43\n",
      "44\n",
      "45\n",
      "46\n",
      "47\n",
      "48\n",
      "49\n",
      "50\n",
      "51\n",
      "52\n",
      "53\n",
      "54\n",
      "55\n",
      "56\n",
      "57\n",
      "58\n",
      "59\n",
      "60\n",
      "61\n",
      "62\n",
      "63\n",
      "64\n",
      "65\n",
      "66\n",
      "67\n",
      "68\n",
      "69\n",
      "70\n",
      "71\n",
      "72\n",
      "73\n",
      "74\n",
      "75\n",
      "76\n",
      "77\n",
      "78\n",
      "79\n",
      "80\n",
      "81\n",
      "82\n",
      "83\n",
      "84\n",
      "85\n",
      "86\n",
      "87\n",
      "88\n",
      "89\n",
      "90\n",
      "91\n",
      "92\n",
      "93\n",
      "94\n",
      "95\n",
      "96\n",
      "97\n",
      "98\n",
      "99\n"
     ]
    }
   ],
   "source": [
    "# 161 for문과 range 구문을 사용해서 0~99까지 한 라인에 하나씩 순차적으로 출력하는 프로그램을 작성하라.\n",
    "\n",
    "for i in range(100):\n",
    "    print(i)"
   ]
  },
  {
   "cell_type": "code",
   "execution_count": 16,
   "id": "3e0aa6c5-fc44-4385-a600-ebf289d52126",
   "metadata": {},
   "outputs": [
    {
     "name": "stdout",
     "output_type": "stream",
     "text": [
      "2002\n",
      "2006\n",
      "2010\n",
      "2014\n",
      "2018\n",
      "2022\n",
      "2026\n",
      "2030\n",
      "2034\n",
      "2038\n",
      "2042\n",
      "2046\n",
      "2050\n"
     ]
    }
   ],
   "source": [
    "# 162 월드컵은 4년에 한 번 개최된다. range()를 사용하여 2002~2050년까지 중 월드컵이 개최되는 연도를 출력하라.\n",
    "\n",
    "# 2002\n",
    "# 2006\n",
    "# 2010\n",
    "# ...\n",
    "# 2042\n",
    "# 2046\n",
    "# 2050\n",
    "\n",
    "for i in range(2002, 2051, 4):\n",
    "    print(i)"
   ]
  },
  {
   "cell_type": "markdown",
   "id": "4a3c4707-52ab-434f-9ca0-ab3e5d732899",
   "metadata": {},
   "source": [
    "- range(start, stop, step) : start부터 stop-1까지 step 간격으로 생성"
   ]
  },
  {
   "cell_type": "code",
   "execution_count": 20,
   "id": "ea215a40-6704-4ca0-ab2b-c4e54ea77937",
   "metadata": {},
   "outputs": [
    {
     "name": "stdout",
     "output_type": "stream",
     "text": [
      "3\n",
      "6\n",
      "9\n",
      "12\n",
      "15\n",
      "18\n",
      "21\n",
      "24\n",
      "27\n",
      "30\n"
     ]
    }
   ],
   "source": [
    "# 163 1부터 30까지의 숫자 중 3의 배수를 출력하라.\n",
    "\n",
    "for i in range(1, 31):\n",
    "    if i % 3 == 0 :\n",
    "        print(i)"
   ]
  },
  {
   "cell_type": "markdown",
   "id": "695cf90e-0f58-4264-a1c7-fab3a73f05bd",
   "metadata": {},
   "source": [
    "- if문 없이 range만 사용한다면 아래와 같다."
   ]
  },
  {
   "cell_type": "code",
   "execution_count": 25,
   "id": "053935fe-7d61-49b8-8f8a-23a074796234",
   "metadata": {},
   "outputs": [
    {
     "name": "stdout",
     "output_type": "stream",
     "text": [
      "3\n",
      "6\n",
      "9\n",
      "12\n",
      "15\n",
      "18\n",
      "21\n",
      "24\n",
      "27\n",
      "30\n"
     ]
    }
   ],
   "source": [
    "for i in range(3, 31, 3):\n",
    "    print(i)"
   ]
  },
  {
   "cell_type": "code",
   "execution_count": 33,
   "id": "df4965b5-f5af-4bb8-b00d-4d7b07e68640",
   "metadata": {},
   "outputs": [
    {
     "ename": "AttributeError",
     "evalue": "'int' object has no attribute 'append'",
     "output_type": "error",
     "traceback": [
      "\u001b[0;31m---------------------------------------------------------------------------\u001b[0m",
      "\u001b[0;31mAttributeError\u001b[0m                            Traceback (most recent call last)",
      "Cell \u001b[0;32mIn[33], line 5\u001b[0m\n\u001b[1;32m      2\u001b[0m \u001b[38;5;28mlist\u001b[39m \u001b[38;5;241m=\u001b[39m []\n\u001b[1;32m      4\u001b[0m \u001b[38;5;28;01mfor\u001b[39;00m i \u001b[38;5;129;01min\u001b[39;00m \u001b[38;5;28mrange\u001b[39m(\u001b[38;5;241m0\u001b[39m, \u001b[38;5;241m100\u001b[39m):\n\u001b[0;32m----> 5\u001b[0m     \u001b[38;5;28mlist\u001b[39m \u001b[38;5;241m=\u001b[39m i\u001b[38;5;241m.\u001b[39mappend()\n\u001b[1;32m      6\u001b[0m     \u001b[38;5;28mlist\u001b[39m[::\u001b[38;5;241m-\u001b[39m\u001b[38;5;241m1\u001b[39m]\n\u001b[1;32m      7\u001b[0m     \u001b[38;5;28mprint\u001b[39m(\u001b[38;5;28mlist\u001b[39m)\n",
      "\u001b[0;31mAttributeError\u001b[0m: 'int' object has no attribute 'append'"
     ]
    }
   ],
   "source": [
    "# 164 99부터 0까지 1씩 감소하는 숫자들을, 한 라인에 하나씩 출력하라.\n",
    "list = []\n",
    "\n",
    "for i in range(0, 100):\n",
    "    list = i.append()\n",
    "    list[::-1]\n",
    "    print(list)"
   ]
  },
  {
   "cell_type": "code",
   "execution_count": 35,
   "id": "9403285a-a21d-45d0-a671-67d5e6372f8e",
   "metadata": {},
   "outputs": [
    {
     "name": "stdout",
     "output_type": "stream",
     "text": [
      "99\n",
      "98\n",
      "97\n",
      "96\n",
      "95\n",
      "94\n",
      "93\n",
      "92\n",
      "91\n",
      "90\n",
      "89\n",
      "88\n",
      "87\n",
      "86\n",
      "85\n",
      "84\n",
      "83\n",
      "82\n",
      "81\n",
      "80\n",
      "79\n",
      "78\n",
      "77\n",
      "76\n",
      "75\n",
      "74\n",
      "73\n",
      "72\n",
      "71\n",
      "70\n",
      "69\n",
      "68\n",
      "67\n",
      "66\n",
      "65\n",
      "64\n",
      "63\n",
      "62\n",
      "61\n",
      "60\n",
      "59\n",
      "58\n",
      "57\n",
      "56\n",
      "55\n",
      "54\n",
      "53\n",
      "52\n",
      "51\n",
      "50\n",
      "49\n",
      "48\n",
      "47\n",
      "46\n",
      "45\n",
      "44\n",
      "43\n",
      "42\n",
      "41\n",
      "40\n",
      "39\n",
      "38\n",
      "37\n",
      "36\n",
      "35\n",
      "34\n",
      "33\n",
      "32\n",
      "31\n",
      "30\n",
      "29\n",
      "28\n",
      "27\n",
      "26\n",
      "25\n",
      "24\n",
      "23\n",
      "22\n",
      "21\n",
      "20\n",
      "19\n",
      "18\n",
      "17\n",
      "16\n",
      "15\n",
      "14\n",
      "13\n",
      "12\n",
      "11\n",
      "10\n",
      "9\n",
      "8\n",
      "7\n",
      "6\n",
      "5\n",
      "4\n",
      "3\n",
      "2\n",
      "1\n",
      "0\n"
     ]
    }
   ],
   "source": [
    "# 다른 간단한 방식으로 풀기\n",
    "\n",
    "for i in range(0, 100):\n",
    "    print(99-i)"
   ]
  },
  {
   "cell_type": "code",
   "execution_count": 41,
   "id": "d06f68d7-2859-44c1-a46c-ad6b0213cbbd",
   "metadata": {},
   "outputs": [
    {
     "name": "stdout",
     "output_type": "stream",
     "text": [
      "0.0\n",
      "0.1\n",
      "0.2\n",
      "0.3\n",
      "0.4\n",
      "0.5\n",
      "0.6\n",
      "0.7\n",
      "0.8\n",
      "0.9\n"
     ]
    }
   ],
   "source": [
    "# for문을 사용해서 아래와 같이 출력하라.\n",
    "\n",
    "# 0.0\n",
    "# 0.1\n",
    "# 0.2\n",
    "# 0.3\n",
    "# 0.4\n",
    "# 0.5\n",
    "# ...\n",
    "# 0.9\n",
    "\n",
    "for i in range(10):\n",
    "    print(f\"0.{i}\")"
   ]
  },
  {
   "cell_type": "code",
   "execution_count": 43,
   "id": "88ef987d-45f5-4f8d-a487-f7ae7571d252",
   "metadata": {},
   "outputs": [
    {
     "name": "stdout",
     "output_type": "stream",
     "text": [
      "0.0\n",
      "0.1\n",
      "0.2\n",
      "0.3\n",
      "0.4\n",
      "0.5\n",
      "0.6\n",
      "0.7\n",
      "0.8\n",
      "0.9\n"
     ]
    }
   ],
   "source": [
    "# 연산을 활용하여 다르게 풀어본다.\n",
    "for i in range(10):\n",
    "    print(i/10)"
   ]
  },
  {
   "cell_type": "code",
   "execution_count": 47,
   "id": "8a9614fb-8f52-46a0-a14c-73c361e6fbfe",
   "metadata": {},
   "outputs": [
    {
     "name": "stdout",
     "output_type": "stream",
     "text": [
      "3 x 1 = 3\n",
      "3 x 2 = 6\n",
      "3 x 3 = 9\n",
      "3 x 4 = 12\n",
      "3 x 5 = 15\n",
      "3 x 6 = 18\n",
      "3 x 7 = 21\n",
      "3 x 8 = 24\n",
      "3 x 9 = 27\n"
     ]
    }
   ],
   "source": [
    "# 166 구구단 3단을 출력하라.\n",
    "\n",
    "for i in range(1, 10):\n",
    "    print(f\"3 x {i} = {3*i}\")"
   ]
  },
  {
   "cell_type": "code",
   "execution_count": 51,
   "id": "f3288feb-f400-4954-a02d-0009346388ff",
   "metadata": {},
   "outputs": [
    {
     "name": "stdout",
     "output_type": "stream",
     "text": [
      "3 x 1 = 3\n",
      "3 x 3 = 9\n",
      "3 x 5 = 15\n",
      "3 x 7 = 21\n",
      "3 x 9 = 27\n"
     ]
    }
   ],
   "source": [
    "# 167 구구단 3단을 출력하라. 단 홀수 번째만 출력한다.\n",
    "\n",
    "for i in range(1, 10):\n",
    "    if i % 2 == 1:\n",
    "        print(f\"3 x {i} = {3*i}\")"
   ]
  },
  {
   "cell_type": "code",
   "execution_count": 53,
   "id": "61453e90-9b8b-4ca8-834a-603d0599540d",
   "metadata": {},
   "outputs": [
    {
     "name": "stdout",
     "output_type": "stream",
     "text": [
      "3 x 1 = 3\n",
      "3 x 3 = 9\n",
      "3 x 5 = 15\n",
      "3 x 7 = 21\n",
      "3 x 9 = 27\n"
     ]
    }
   ],
   "source": [
    "# range를 활용해 다시 풀어본다.\n",
    "for i in range(1, 10, 2):\n",
    "    print(f\"3 x {i} = {3*i}\")"
   ]
  },
  {
   "cell_type": "code",
   "execution_count": 55,
   "id": "48e7aa43-949b-4035-aa72-602ea93c8796",
   "metadata": {},
   "outputs": [
    {
     "name": "stdout",
     "output_type": "stream",
     "text": [
      "2\n",
      "4\n",
      "6\n",
      "8\n",
      "10\n",
      "12\n",
      "14\n",
      "16\n",
      "18\n"
     ]
    }
   ],
   "source": [
    "# 168 1~10까지의 숫자에 대해 모두 더한 값을 출력하는 프로그램을 for 문을 사용하여 작성하라.\n",
    "# 합 : 55\n",
    "\n",
    "for i in range(1, 10):\n",
    "    i += i\n",
    "    print(i)"
   ]
  },
  {
   "cell_type": "markdown",
   "id": "fc38e35a-5ae1-4c76-aed4-4bf7425cc85c",
   "metadata": {},
   "source": [
    "-> 뭔가 이상하다. 합이 for문 밖에서 이뤄져야 할 것 같은데 일단 시도. range도 10까지 포함되도록 재설정 한다."
   ]
  },
  {
   "cell_type": "code",
   "execution_count": 2,
   "id": "5319ad48-9e16-40b5-a333-e8d039551cc4",
   "metadata": {},
   "outputs": [
    {
     "ename": "TypeError",
     "evalue": "unsupported operand type(s) for +=: 'builtin_function_or_method' and 'int'",
     "output_type": "error",
     "traceback": [
      "\u001b[0;31m---------------------------------------------------------------------------\u001b[0m",
      "\u001b[0;31mTypeError\u001b[0m                                 Traceback (most recent call last)",
      "Cell \u001b[0;32mIn[2], line 2\u001b[0m\n\u001b[1;32m      1\u001b[0m \u001b[38;5;28;01mfor\u001b[39;00m i \u001b[38;5;129;01min\u001b[39;00m \u001b[38;5;28mrange\u001b[39m(\u001b[38;5;241m1\u001b[39m, \u001b[38;5;241m11\u001b[39m):\n\u001b[0;32m----> 2\u001b[0m     \u001b[38;5;28msum\u001b[39m \u001b[38;5;241m+\u001b[39m\u001b[38;5;241m=\u001b[39m i\n\u001b[1;32m      3\u001b[0m \u001b[38;5;28mprint\u001b[39m(\u001b[38;5;28msum\u001b[39m)\n",
      "\u001b[0;31mTypeError\u001b[0m: unsupported operand type(s) for +=: 'builtin_function_or_method' and 'int'"
     ]
    }
   ],
   "source": [
    "for i in range(1, 11):\n",
    "    sum += i\n",
    "print(sum)"
   ]
  },
  {
   "cell_type": "code",
   "execution_count": null,
   "id": "a44954eb-49e3-4a81-918b-8ee4c9590893",
   "metadata": {},
   "outputs": [],
   "source": [
    "-> 초기값 설정을 하지 않아서 그런 듯하여 다시 시도."
   ]
  },
  {
   "cell_type": "code",
   "execution_count": 4,
   "id": "fba389d9-41b6-4d4b-8119-e713fda8b321",
   "metadata": {},
   "outputs": [
    {
     "name": "stdout",
     "output_type": "stream",
     "text": [
      "55\n"
     ]
    }
   ],
   "source": [
    "sum = 0\n",
    "\n",
    "for i in range(1, 11):\n",
    "    sum += i\n",
    "print(sum)"
   ]
  },
  {
   "cell_type": "code",
   "execution_count": 6,
   "id": "329ec681-6ab1-4afc-b434-40296d372bb4",
   "metadata": {},
   "outputs": [
    {
     "name": "stdout",
     "output_type": "stream",
     "text": [
      "25\n"
     ]
    }
   ],
   "source": [
    "# 169 1~10까지의 숫자 중 모든 홀수의 합을 출력하는 프로그램을 for 문을 사용하여 작성하라.\n",
    "# 합: 25\n",
    "\n",
    "odd_sum = 0\n",
    "\n",
    "for odd in range(1, 10, 2):\n",
    "    odd_sum += odd\n",
    "print(odd_sum)"
   ]
  },
  {
   "cell_type": "code",
   "execution_count": 10,
   "id": "9eb81058-6b85-45bc-a545-1e7aee825aa6",
   "metadata": {},
   "outputs": [
    {
     "name": "stdout",
     "output_type": "stream",
     "text": [
      "3628800\n"
     ]
    }
   ],
   "source": [
    "# 170 1~10까지의 숫자를 모두 곱한 값을 출력하는 프로그램을 for 문을 사용하여 작성하라.\n",
    "\n",
    "multiply = 1\n",
    "\n",
    "for num in range(1, 11):\n",
    "    multiply *= num\n",
    "print(multiply)"
   ]
  }
 ],
 "metadata": {
  "kernelspec": {
   "display_name": "Python 3 (ipykernel)",
   "language": "python",
   "name": "python3"
  },
  "language_info": {
   "codemirror_mode": {
    "name": "ipython",
    "version": 3
   },
   "file_extension": ".py",
   "mimetype": "text/x-python",
   "name": "python",
   "nbconvert_exporter": "python",
   "pygments_lexer": "ipython3",
   "version": "3.11.7"
  }
 },
 "nbformat": 4,
 "nbformat_minor": 5
}
