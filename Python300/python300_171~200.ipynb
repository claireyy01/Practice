{
 "cells": [
  {
   "cell_type": "markdown",
   "id": "3fd20394-d9c5-4906-9ac4-12acb8428367",
   "metadata": {},
   "source": [
    "# 파이썬 300제 : 171~200 (반복문)"
   ]
  },
  {
   "cell_type": "markdown",
   "id": "14bca9ce-a2ce-4232-a552-41fba1e51044",
   "metadata": {},
   "source": [
    "## 회고\n",
    "- 2차원 리스트 내의 데이터를 활용할 때는 열을 먼저 선택한 뒤 원하는 행을 선택하여 작업하는 방식임을 코드를 작성하면서 익히고 알게 되었다.\n",
    "- 항상 초기값 잘 설정해두기!!"
   ]
  },
  {
   "cell_type": "markdown",
   "id": "7a45345a-37f4-46c9-8da5-723e6f5bff12",
   "metadata": {},
   "source": [
    "## 171~180"
   ]
  },
  {
   "cell_type": "code",
   "execution_count": 2,
   "id": "d5802158-0f6f-4d91-8525-ecab04cb17be",
   "metadata": {},
   "outputs": [
    {
     "name": "stdout",
     "output_type": "stream",
     "text": [
      "32100\n",
      "32150\n",
      "32000\n",
      "32500\n"
     ]
    }
   ],
   "source": [
    "# 171 아래와 같이 리스트의 데이터를 출력하라. 단, for문과 range문을 사용하라.\n",
    "price_list = [32100, 32150, 32000, 32500]\n",
    "# 32100\n",
    "# 32150\n",
    "# 32000\n",
    "# 32500\n",
    "\n",
    "for i in range(len(price_list)):\n",
    "    print(price_list[i])"
   ]
  },
  {
   "cell_type": "code",
   "execution_count": 4,
   "id": "db00c63b-ec0d-4f7f-930b-878096257632",
   "metadata": {},
   "outputs": [
    {
     "name": "stdout",
     "output_type": "stream",
     "text": [
      "0 32100\n",
      "1 32150\n",
      "2 32000\n",
      "3 32500\n"
     ]
    }
   ],
   "source": [
    "# 172 아래와 같이 리스트의 데이터를 출력하라. 단, for문과 range문을 사용하라.\n",
    "price_list = [32100, 32150, 32000, 32500]\n",
    "# 0 32100\n",
    "# 1 32150\n",
    "# 2 32000\n",
    "# 3 32500\n",
    "\n",
    "for i in range(len(price_list)):\n",
    "    print(i, price_list[i])"
   ]
  },
  {
   "cell_type": "code",
   "execution_count": 12,
   "id": "9066ffd6-9e57-40aa-b756-89ee21136809",
   "metadata": {},
   "outputs": [],
   "source": [
    "# 173 아래와 같이 리스트의 데이터를 출력하라. 단, for문과 range문을 사용하라.\n",
    "price_list = [32100, 32150, 32000, 32500]\n",
    "# 3 32100\n",
    "# 2 32150\n",
    "# 1 32000\n",
    "# 0 32500\n",
    "\n",
    "for i in range(len(price_list)):\n",
    "    for j in range(0, 4, -1):\n",
    "        print(j, price_list[i])"
   ]
  },
  {
   "cell_type": "code",
   "execution_count": 14,
   "id": "6495066a-d2ef-48f7-b560-c3cdd2df0101",
   "metadata": {},
   "outputs": [
    {
     "name": "stdout",
     "output_type": "stream",
     "text": [
      "3 32100\n",
      "2 32150\n",
      "1 32000\n",
      "0 32500\n"
     ]
    }
   ],
   "source": [
    "for i in range(len(price_list)):\n",
    "    print((len(price_list)-1)-i, price_list[i])"
   ]
  },
  {
   "cell_type": "markdown",
   "id": "30c76b20-6d42-4fc9-8958-c1ea90ae7679",
   "metadata": {},
   "source": [
    "-> 활용 가능한 숫자, 규칙을 만드는 연습이 많이 필요하다.  \n",
    "역순에서는 시작 숫자와 줄어드는 수의 크기를 잘 설정하고, 빼기를 잘 활용해보자!"
   ]
  },
  {
   "cell_type": "code",
   "execution_count": 19,
   "id": "ea0805ef-9ced-4468-9bfa-f14182914423",
   "metadata": {},
   "outputs": [
    {
     "name": "stdout",
     "output_type": "stream",
     "text": [
      "100 32150\n",
      "110 32000\n",
      "120 32500\n"
     ]
    }
   ],
   "source": [
    "# 174 아래와 같이 리스트의 데이터를 출력하라. 단, for문과 range문을 사용하라.\n",
    "price_list = [32100, 32150, 32000, 32500]\n",
    "# 100 32150\n",
    "# 110 32000\n",
    "# 120 32500\n",
    "\n",
    "for i in range(len(price_list[1:])):\n",
    "    print(100+10*i, price_list[i+1])"
   ]
  },
  {
   "cell_type": "code",
   "execution_count": 27,
   "id": "465cde55-c07e-43f6-abc7-b9d7e78d7f40",
   "metadata": {},
   "outputs": [
    {
     "name": "stdout",
     "output_type": "stream",
     "text": [
      "가 나\n",
      "나 다\n",
      "다 라\n"
     ]
    }
   ],
   "source": [
    "# 175 my_list를 아래와 같이 출력하라.\n",
    "my_list = [\"가\", \"나\", \"다\", \"라\"]\n",
    "# 가 나\n",
    "# 나 다\n",
    "# 다 라\n",
    "\n",
    "for i in range(0, 3):\n",
    "    print(my_list[i], my_list[i+1])"
   ]
  },
  {
   "cell_type": "code",
   "execution_count": 29,
   "id": "67578279-e91f-455d-ad22-d374738d2a24",
   "metadata": {},
   "outputs": [
    {
     "name": "stdout",
     "output_type": "stream",
     "text": [
      "가 나 다\n",
      "나 다 라\n",
      "다 라 마\n"
     ]
    }
   ],
   "source": [
    "# 176 리스트를 아래와 같이 출력하라.\n",
    "my_list = [\"가\", \"나\", \"다\", \"라\", \"마\"]\n",
    "# 가 나 다\n",
    "# 나 다 라\n",
    "# 다 라 마\n",
    "\n",
    "for i in range(0, 3):\n",
    "    print(my_list[i], my_list[i+1], my_list[i+2])"
   ]
  },
  {
   "cell_type": "code",
   "execution_count": 31,
   "id": "21c20716-cd3a-463d-8341-9114ebd4259c",
   "metadata": {},
   "outputs": [
    {
     "name": "stdout",
     "output_type": "stream",
     "text": [
      "라 다\n",
      "다 나\n",
      "나 가\n"
     ]
    }
   ],
   "source": [
    "# 177 반복문과 range 함수를 사용해서 my_list를 아래와 같이 출력하라.\n",
    "my_list = [\"가\", \"나\", \"다\", \"라\"]\n",
    "# 라 다\n",
    "# 다 나\n",
    "# 나 가\n",
    "\n",
    "for i in range(0, 3):\n",
    "    print(my_list[len(my_list)-1-i], my_list[len(my_list)-2-i])"
   ]
  },
  {
   "cell_type": "markdown",
   "id": "05910492-9db5-4d7a-b926-d6551e566b6d",
   "metadata": {},
   "source": [
    "-> range에서부터 역순으로 한다면 아래와 같다."
   ]
  },
  {
   "cell_type": "code",
   "execution_count": 35,
   "id": "007c4b70-7456-4be0-a57f-00a7c05bcae1",
   "metadata": {},
   "outputs": [
    {
     "name": "stdout",
     "output_type": "stream",
     "text": [
      "라 다\n",
      "다 나\n",
      "나 가\n"
     ]
    }
   ],
   "source": [
    "my_list = [\"가\", \"나\", \"다\", \"라\"]\n",
    "\n",
    "for i in range(3, 0, -1):\n",
    "    print(my_list[i], my_list[i-1])"
   ]
  },
  {
   "cell_type": "code",
   "execution_count": 39,
   "id": "11a801a5-6dda-47e9-9e7e-276d3bb05e47",
   "metadata": {},
   "outputs": [
    {
     "name": "stdout",
     "output_type": "stream",
     "text": [
      "100\n",
      "200\n",
      "400\n"
     ]
    },
    {
     "ename": "IndexError",
     "evalue": "list index out of range",
     "output_type": "error",
     "traceback": [
      "\u001b[0;31m---------------------------------------------------------------------------\u001b[0m",
      "\u001b[0;31mIndexError\u001b[0m                                Traceback (most recent call last)",
      "Cell \u001b[0;32mIn[39], line 10\u001b[0m\n\u001b[1;32m      3\u001b[0m \u001b[38;5;66;03m# 예를 들어 100을 기준으로 우측에 위치한 200과의 차분 값를 화면에 출력하고, 200을 기준으로 우측에 위치한 400과의 차분값을 화면에 출력한다. \u001b[39;00m\n\u001b[1;32m      4\u001b[0m \u001b[38;5;66;03m# 이어서 400을 기준으로 우측에 위치한 800과의 차분값을 화면에 출력한다.\u001b[39;00m\n\u001b[1;32m      5\u001b[0m \u001b[38;5;66;03m# 100\u001b[39;00m\n\u001b[1;32m      6\u001b[0m \u001b[38;5;66;03m# 200\u001b[39;00m\n\u001b[1;32m      7\u001b[0m \u001b[38;5;66;03m# 400\u001b[39;00m\n\u001b[1;32m      9\u001b[0m \u001b[38;5;28;01mfor\u001b[39;00m i \u001b[38;5;129;01min\u001b[39;00m \u001b[38;5;28mrange\u001b[39m(\u001b[38;5;28mlen\u001b[39m(my_list)):\n\u001b[0;32m---> 10\u001b[0m     a \u001b[38;5;241m=\u001b[39m my_list[i\u001b[38;5;241m+\u001b[39m\u001b[38;5;241m1\u001b[39m] \u001b[38;5;241m-\u001b[39m my_list[i]\n\u001b[1;32m     11\u001b[0m     \u001b[38;5;28mprint\u001b[39m(a)\n",
      "\u001b[0;31mIndexError\u001b[0m: list index out of range"
     ]
    }
   ],
   "source": [
    "# 178 리스트에는 네 개의 정수가 저장되어 있다. 각각의 데이터에 대해서 자신과 우측값과의 차분값을 화면에 출력하라.\n",
    "my_list = [100, 200, 400, 800]\n",
    "# 예를 들어 100을 기준으로 우측에 위치한 200과의 차분 값를 화면에 출력하고, 200을 기준으로 우측에 위치한 400과의 차분값을 화면에 출력한다. \n",
    "# 이어서 400을 기준으로 우측에 위치한 800과의 차분값을 화면에 출력한다.\n",
    "# 100\n",
    "# 200\n",
    "# 400\n",
    "\n",
    "for i in range(len(my_list)):\n",
    "    a = my_list[i+1] - my_list[i]\n",
    "    print(a)"
   ]
  },
  {
   "cell_type": "code",
   "execution_count": null,
   "id": "7b760e85-93da-424f-babe-dc9a94e0fad9",
   "metadata": {},
   "outputs": [],
   "source": [
    "-> 리스트 인덱스 번호가 리스트 길이를 초과하여 오류가 발생.  \n"
   ]
  },
  {
   "cell_type": "code",
   "execution_count": 41,
   "id": "7c458ad4-4bc5-4aae-ad38-923642ddf0f4",
   "metadata": {},
   "outputs": [
    {
     "name": "stdout",
     "output_type": "stream",
     "text": [
      "100\n",
      "200\n",
      "400\n"
     ]
    }
   ],
   "source": [
    "my_list = [100, 200, 400, 800]\n",
    "\n",
    "for i in range(len(my_list)-1):\n",
    "    a = my_list[i+1] - my_list[i]\n",
    "    print(a)"
   ]
  },
  {
   "cell_type": "code",
   "execution_count": 43,
   "id": "47c28a6e-04ba-41bd-8dc1-427e88e80d9b",
   "metadata": {},
   "outputs": [
    {
     "name": "stdout",
     "output_type": "stream",
     "text": [
      "233.33333333333334\n",
      "466.6666666666667\n",
      "733.3333333333334\n",
      "1033.3333333333333\n"
     ]
    }
   ],
   "source": [
    "# 179 리스트에는 6일 간의 종가 데이터가 저장되어 있다. 종가 데이터의 3일 이동 평균을 계산하고 이를 화면에 출력하라.\n",
    "my_list = [100, 200, 400, 800, 1000, 1300]\n",
    "# 첫 번째 줄에는 100, 200, 400의 평균값이 출력된다. 두 번째 줄에는 200, 400, 800의 평균값이 출력된다. 같은 방식으로 나머지 데이터의 평균을 출력한다.\n",
    "# 233.33333333333334\n",
    "# 466.6666666666667\n",
    "# 733.3333333333334\n",
    "# 1033.3333333333333\n",
    "\n",
    "for i in range(len(my_list)-2):\n",
    "    a = my_list[i]\n",
    "    b = my_list[i+1]\n",
    "    c = my_list[i+2]\n",
    "    print((a+b+c) / 3)"
   ]
  },
  {
   "cell_type": "code",
   "execution_count": 47,
   "id": "b4efddb5-ff6d-47d2-8a5f-b1a8f919d9e2",
   "metadata": {},
   "outputs": [
    {
     "name": "stdout",
     "output_type": "stream",
     "text": [
      "[50, 100, 30, 80, 0]\n"
     ]
    }
   ],
   "source": [
    "# 180 리스트에 5일간의 저가, 고가 정보가 저장돼 있다. 고가와 저가의 차를 변동폭이라고 정의할 때, low, high 두 개의 리스트를 사용해서 5일간의 변동폭을 volatility 리스트에 저장하라.\n",
    "low_prices  = [100, 200, 400, 800, 1000]\n",
    "high_prices = [150, 300, 430, 880, 1000]\n",
    "\n",
    "volatility = []\n",
    "\n",
    "for i in range(5):\n",
    "    volatility.append(high_prices[i] - low_prices[i])\n",
    "print(volatility)"
   ]
  },
  {
   "cell_type": "markdown",
   "id": "b6d2c007-9ec4-4090-923c-c3f6de30750a",
   "metadata": {},
   "source": [
    "## 181~190"
   ]
  },
  {
   "cell_type": "code",
   "execution_count": 51,
   "id": "6ea837e3-3acb-4680-9c07-beff09928c7e",
   "metadata": {},
   "outputs": [],
   "source": [
    "# 181 아래 표에서 하나의 행을 하나의 리스트로, 총 3개의 리스트를 갖는 이차원 리스트 apart를 정의하라.\n",
    "\n",
    "# 101호\t102호\n",
    "# 201호\t202호\n",
    "# 301호\t302호\n",
    "\n",
    "apart = [[\"101호\", \"102호\"], [\"201호\", \"202호\"], [\"301호\", \"302호\"]]"
   ]
  },
  {
   "cell_type": "code",
   "execution_count": 55,
   "id": "0935019b-2a30-4e87-892b-106736c14b4c",
   "metadata": {},
   "outputs": [
    {
     "data": {
      "text/plain": [
       "['시가', '종가']"
      ]
     },
     "execution_count": 55,
     "metadata": {},
     "output_type": "execute_result"
    }
   ],
   "source": [
    "# 182 아래 표에서 하나의 열을 하나의 리스트로, 총 2개의 리스트를 갖는 이차원 리스트 stock을 정의하라.\n",
    "\n",
    "# 시가\t종가\n",
    "# 100\t80\n",
    "# 200\t210\n",
    "# 300\t330\n",
    "\n",
    "시가 = [\n",
    "    100, \n",
    "    200, \n",
    "    300\n",
    "]\n",
    "\n",
    "종가 = [\n",
    "    80, \n",
    "    210, \n",
    "    330\n",
    "]\n",
    "\n",
    "stock = ['시가', '종가']\n",
    "stock"
   ]
  },
  {
   "cell_type": "markdown",
   "id": "2b9c5172-927d-47d4-a924-d7d8f6ee2ac5",
   "metadata": {},
   "source": [
    "-> 문제를 잘못 이해함. 다시 작성해보기"
   ]
  },
  {
   "cell_type": "code",
   "execution_count": 58,
   "id": "12e452ca-86e8-4fd8-8bf1-70b46b776b8c",
   "metadata": {},
   "outputs": [],
   "source": [
    "stock = [[\"시가\", 100, 200, 300], [\"종가\", 80, 210, 330]]"
   ]
  },
  {
   "cell_type": "code",
   "execution_count": 62,
   "id": "67905201-15a6-4891-8a69-7e5b467d4e67",
   "metadata": {},
   "outputs": [],
   "source": [
    "# 183 아래 표를 stock 이름의 딕셔너리로 표현하라.\n",
    "# 시가를 key로 저장하고, 나머지 같은 열의 데이터를 리스트로 저장해서 value로 저장한다. 종가 역시 key로 저장하고 나머지 같은 열의 데이터를 리스트로 저장해서 value로 저장한다.\n",
    "\n",
    "# 시가\t종가\n",
    "# 100\t80\n",
    "# 200\t210\n",
    "# 300\t330\n",
    "\n",
    "stock = {\"시가\":[100, 200, 300], \"종가\":[80, 210, 330]}"
   ]
  },
  {
   "cell_type": "code",
   "execution_count": 64,
   "id": "5124b776-4a5e-4705-b729-4a94c325fef4",
   "metadata": {},
   "outputs": [],
   "source": [
    "# 184 아래 표를 stock 이라는 이름의 딕셔너리로 표현하라. 날짜를 key로 저장하고, 나머지 같은 행의 데이터를 리스트로 저장해서 value로 저장한다. 첫 열이 날짜이다.\n",
    "\n",
    "# 10/10\t80\t110\t70\t90\n",
    "# 10/11\t210\t230\t190\t200\n",
    "\n",
    "stock = {\"10/10\":[80, 110, 70, 90], \"10/11\":[210, 230, 190, 200]}"
   ]
  },
  {
   "cell_type": "code",
   "execution_count": 72,
   "id": "f7115261-79a0-499e-987a-7389734e6184",
   "metadata": {},
   "outputs": [
    {
     "name": "stdout",
     "output_type": "stream",
     "text": [
      "101 호\n",
      "102 호\n",
      "201 호\n",
      "202 호\n",
      "301 호\n",
      "302 호\n"
     ]
    }
   ],
   "source": [
    "# 185 리스트에 저장된 데이터를 아래와 같이 출력하라.\n",
    "\n",
    "apart = [ [101, 102], [201, 202], [301, 302] ]\n",
    "# 101 호\n",
    "# 102 호\n",
    "# 201 호\n",
    "# 202 호\n",
    "# 301 호\n",
    "# 302 호\n",
    "\n",
    "# apart[0][0]\n",
    "# apart[0][1]\n",
    "# apart[1][0] 이런 식으로 출력되어야 함.\n",
    "\n",
    "for i in range(3):\n",
    "    for j in range(2):\n",
    "        print(apart[i][j], \"호\")"
   ]
  },
  {
   "cell_type": "markdown",
   "id": "28d66bbb-8127-4a15-bc5c-75c7ab714d33",
   "metadata": {},
   "source": [
    "- 첫 번째 리스트(row)를 먼저 꺼낸 뒤, 각 행(col)의 데이터를 하나씩 꺼내는 방식으로도 가능하다."
   ]
  },
  {
   "cell_type": "code",
   "execution_count": 75,
   "id": "3fb029c4-dd68-4f97-850a-98577a374f06",
   "metadata": {},
   "outputs": [
    {
     "name": "stdout",
     "output_type": "stream",
     "text": [
      "101 호\n",
      "102 호\n",
      "201 호\n",
      "202 호\n",
      "301 호\n",
      "302 호\n"
     ]
    }
   ],
   "source": [
    "apart = [ [101, 102], [201, 202], [301, 302] ]\n",
    "\n",
    "for row in apart:\n",
    "    for col in row:\n",
    "        print(col, \"호\")"
   ]
  },
  {
   "cell_type": "code",
   "execution_count": 77,
   "id": "e88992cc-b97e-4680-a199-0c4b3c98dc05",
   "metadata": {},
   "outputs": [
    {
     "name": "stdout",
     "output_type": "stream",
     "text": [
      "301 호\n",
      "302 호\n",
      "201 호\n",
      "202 호\n",
      "101 호\n",
      "102 호\n"
     ]
    }
   ],
   "source": [
    "# 186 리스트에 저장된 데이터를 아래와 같이 출력하라.\n",
    "\n",
    "apart = [ [101, 102], [201, 202], [301, 302] ]\n",
    "# 301 호\n",
    "# 302 호\n",
    "# 201 호\n",
    "# 202 호\n",
    "# 101 호\n",
    "# 102 호\n",
    "\n",
    "for row in apart[::-1]:\n",
    "    for col in row:\n",
    "        print(col, \"호\")"
   ]
  },
  {
   "cell_type": "code",
   "execution_count": 79,
   "id": "404632eb-d249-4ab9-a0fe-0bbeac923570",
   "metadata": {},
   "outputs": [
    {
     "name": "stdout",
     "output_type": "stream",
     "text": [
      "302 호\n",
      "301 호\n",
      "202 호\n",
      "201 호\n",
      "102 호\n",
      "101 호\n"
     ]
    }
   ],
   "source": [
    "# 187 리스트에 저장된 데이터를 아래와 같이 출력하라.\n",
    "apart = [ [101, 102], [201, 202], [301, 302] ]\n",
    "# 302 호\n",
    "# 301 호\n",
    "# 202 호\n",
    "# 201 호\n",
    "# 102 호\n",
    "# 101 호\n",
    "\n",
    "for row in apart[::-1]:\n",
    "    for col in row[::-1]:\n",
    "        print(col, \"호\")"
   ]
  },
  {
   "cell_type": "code",
   "execution_count": 83,
   "id": "bc83e5e5-de7f-4170-b531-865a0dcd0cf1",
   "metadata": {},
   "outputs": [
    {
     "name": "stdout",
     "output_type": "stream",
     "text": [
      "101 호\n",
      "----\n",
      "102 호\n",
      "----\n",
      "201 호\n",
      "----\n",
      "202 호\n",
      "----\n",
      "301 호\n",
      "----\n",
      "302 호\n",
      "----\n"
     ]
    }
   ],
   "source": [
    "# 188 리스트에 저장된 데이터를 아래와 같이 출력하라.\n",
    "\n",
    "apart = [ [101, 102], [201, 202], [301, 302] ]\n",
    "# 101 호\n",
    "# -----\n",
    "# 102 호\n",
    "# -----\n",
    "# 201 호\n",
    "# -----\n",
    "# 202 호\n",
    "# -----\n",
    "# 301 호\n",
    "# -----\n",
    "# 302 호\n",
    "# -----\n",
    "\n",
    "for row in apart:\n",
    "    for col in row:\n",
    "        print(col, \"호\")\n",
    "        print(\"----\")"
   ]
  },
  {
   "cell_type": "code",
   "execution_count": 85,
   "id": "ac248c29-dcb2-40f6-8610-acedb26cb011",
   "metadata": {},
   "outputs": [
    {
     "name": "stdout",
     "output_type": "stream",
     "text": [
      "101 호\n",
      "102 호\n",
      "-----\n",
      "201 호\n",
      "202 호\n",
      "-----\n",
      "301 호\n",
      "302 호\n",
      "-----\n"
     ]
    }
   ],
   "source": [
    "# 189 리스트에 저장된 데이터를 아래와 같이 출력하라.\n",
    "\n",
    "apart = [ [101, 102], [201, 202], [301, 302] ]\n",
    "# 101 호\n",
    "# 102 호\n",
    "# -----\n",
    "# 201 호\n",
    "# 202 호\n",
    "# -----\n",
    "# 301 호\n",
    "# 302 호\n",
    "# -----\n",
    "\n",
    "for row in apart:\n",
    "    for col in row:\n",
    "        print(col, \"호\")\n",
    "    print(\"-\" * 5)"
   ]
  },
  {
   "cell_type": "code",
   "execution_count": 87,
   "id": "834c4abd-d13f-48ee-abbf-d2304073ae83",
   "metadata": {},
   "outputs": [
    {
     "name": "stdout",
     "output_type": "stream",
     "text": [
      "101 호\n",
      "102 호\n",
      "201 호\n",
      "202 호\n",
      "301 호\n",
      "302 호\n",
      "-----\n"
     ]
    }
   ],
   "source": [
    "# 190 리스트에 저장된 데이터를 아래와 같이 출력하라.\n",
    "\n",
    "apart = [ [101, 102], [201, 202], [301, 302] ]\n",
    "# 101 호\n",
    "# 102 호\n",
    "# 201 호\n",
    "# 202 호\n",
    "# 301 호\n",
    "# 302 호\n",
    "# -----\n",
    "\n",
    "for row in apart:\n",
    "    for col in row:\n",
    "        print(col, \"호\")\n",
    "\n",
    "print(\"-----\")"
   ]
  },
  {
   "cell_type": "markdown",
   "id": "d4b25e0b-ae4a-4adf-ba1c-f2326f2a9011",
   "metadata": {},
   "source": [
    "## 191~200"
   ]
  },
  {
   "cell_type": "code",
   "execution_count": 92,
   "id": "0a308411-b8c3-4566-b73a-097c4383e6e5",
   "metadata": {},
   "outputs": [
    {
     "name": "stdout",
     "output_type": "stream",
     "text": [
      "2000.28\n",
      "3050.427\n",
      "2050.2870000000003\n",
      "1980.2772\n",
      "7501.05\n",
      "2050.2870000000003\n",
      "2050.2870000000003\n",
      "1980.2772\n",
      "15452.163\n",
      "15052.107\n",
      "15552.177\n",
      "14902.086000000001\n"
     ]
    }
   ],
   "source": [
    "# 191 data에는 매수한 종목들의 OHLC (open/high/low/close) 가격 정보가 바인딩 되어있다.\n",
    "\n",
    "data = [\n",
    "    [ 2000,  3050,  2050,  1980],\n",
    "    [ 7500,  2050,  2050,  1980],\n",
    "    [15450, 15050, 15550, 14900]\n",
    "]\n",
    "\n",
    "# 수수료를 0.014 %로 가정할 때, 각 가격에 수수료를 포함한 가격을 한라인에 하나씩 출력하라.\n",
    "# 2000.28\n",
    "# 3050.427\n",
    "# 2050.2870000000003\n",
    "# ...\n",
    "\n",
    "for row in data:\n",
    "    for col in row:\n",
    "        print(col * 1.00014)"
   ]
  },
  {
   "cell_type": "code",
   "execution_count": 94,
   "id": "59f77b37-be8c-4cac-81c6-ffae7e692864",
   "metadata": {},
   "outputs": [
    {
     "name": "stdout",
     "output_type": "stream",
     "text": [
      "2000.28\n",
      "3050.427\n",
      "2050.2870000000003\n",
      "1980.2772\n",
      "----\n",
      "7501.05\n",
      "2050.2870000000003\n",
      "2050.2870000000003\n",
      "1980.2772\n",
      "----\n",
      "15452.163\n",
      "15052.107\n",
      "15552.177\n",
      "14902.086000000001\n",
      "----\n"
     ]
    }
   ],
   "source": [
    "# 192 191번의 출력 결과에 행단위로 \"----\" 구분자를 추가하라.\n",
    "\n",
    "# 2000.28\n",
    "# 3050.427\n",
    "# 2050.2870000000003\n",
    "# 1980.2772\n",
    "# ----\n",
    "# 7501.05\n",
    "# 2050.2870000000003\n",
    "# 2050.2870000000003\n",
    "# 1980.2772\n",
    "# ----\n",
    "# 15452.163\n",
    "# 15052.107\n",
    "# 15552.177\n",
    "# 14902.086000000001\n",
    "# ----\n",
    "\n",
    "data = [\n",
    "    [ 2000,  3050,  2050,  1980],\n",
    "    [ 7500,  2050,  2050,  1980],\n",
    "    [15450, 15050, 15550, 14900]\n",
    "]\n",
    "\n",
    "for row in data:\n",
    "    for col in row:\n",
    "        print(col * 1.00014)\n",
    "    print(\"----\")"
   ]
  },
  {
   "cell_type": "code",
   "execution_count": 98,
   "id": "3fefd4a3-6df0-4f0d-be43-51bfd7e8d840",
   "metadata": {},
   "outputs": [
    {
     "name": "stdout",
     "output_type": "stream",
     "text": [
      "[2000.28, 3050.427, 2050.2870000000003, 1980.2772, 7501.05, 2050.2870000000003, 2050.2870000000003, 1980.2772, 15452.163, 15052.107, 15552.177, 14902.086000000001]\n"
     ]
    }
   ],
   "source": [
    "# 193 192 번 문제의 결괏값을 result 이름의 리스트에 1차원 배열로 저장하라.\n",
    "\n",
    "# >> print(result)\n",
    "# [2000.28, 3050.427, 2050.2870000000003, 1980.2772, 7501.05, 2050.2870000000003, 2050.2870000000003, ...]\n",
    "\n",
    "data = [\n",
    "    [ 2000,  3050,  2050,  1980],\n",
    "    [ 7500,  2050,  2050,  1980],\n",
    "    [15450, 15050, 15550, 14900]\n",
    "]\n",
    "\n",
    "result = []\n",
    "for row in data:\n",
    "    for col in row:\n",
    "        result.append(col * 1.00014)\n",
    "\n",
    "print(result)"
   ]
  },
  {
   "cell_type": "code",
   "execution_count": 104,
   "id": "bb4e520d-2a33-46f9-a899-39a8404d8365",
   "metadata": {},
   "outputs": [
    {
     "name": "stdout",
     "output_type": "stream",
     "text": [
      "[[2000.28, 3050.427, 2050.2870000000003, 1980.2772], [7501.05, 2050.2870000000003, 2050.2870000000003, 1980.2772], [15452.163, 15052.107, 15552.177, 14902.086000000001]]\n"
     ]
    }
   ],
   "source": [
    "# 194 191번 문제의 결괏값을 result 이름의 리스트에 2차원 배열로 저장하라. 저장 포맷은 아래와 같다. 각 행에 대한 데이터끼리 리스트에 저장되어야 한다.\n",
    "\n",
    "# >> print(result)\n",
    "# [\n",
    "#  [2000.28, 3050.427, 2050.2870000000003, 1980.2772],\n",
    "#  [7501.05, 2050.2870000000003, 2050.2870000000003, 1980.2772],\n",
    "#  [15452.163, 15052.107, 15552.177, 14902.086000000001]\n",
    "# ]\n",
    "\n",
    "result = []\n",
    "for row in data:\n",
    "    a = []\n",
    "    for col in row:\n",
    "        a.append(col * 1.00014)\n",
    "    result.append(a)\n",
    "\n",
    "print(result)"
   ]
  },
  {
   "cell_type": "code",
   "execution_count": 110,
   "id": "0a16a11e-7e3a-47b6-95f3-2c8229789d10",
   "metadata": {},
   "outputs": [
    {
     "name": "stdout",
     "output_type": "stream",
     "text": [
      "n\n",
      "h\n"
     ]
    },
    {
     "ename": "IndexError",
     "evalue": "string index out of range",
     "output_type": "error",
     "traceback": [
      "\u001b[0;31m---------------------------------------------------------------------------\u001b[0m",
      "\u001b[0;31mIndexError\u001b[0m                                Traceback (most recent call last)",
      "Cell \u001b[0;32mIn[110], line 13\u001b[0m\n\u001b[1;32m     11\u001b[0m \u001b[38;5;28;01mfor\u001b[39;00m row \u001b[38;5;129;01min\u001b[39;00m ohlc:\n\u001b[1;32m     12\u001b[0m     \u001b[38;5;28;01mfor\u001b[39;00m col \u001b[38;5;129;01min\u001b[39;00m row:\n\u001b[0;32m---> 13\u001b[0m         \u001b[38;5;28mprint\u001b[39m(col[\u001b[38;5;241m3\u001b[39m])\n",
      "\u001b[0;31mIndexError\u001b[0m: string index out of range"
     ]
    }
   ],
   "source": [
    "# 195 ohlc 리스트에는 시가(open), 고가 (high), 저가 (low) , 종가(close)가 날짜별로 저장돼 있다. 화면에 종가데이터를 출력하라.\n",
    "\n",
    "ohlc = [[\"open\", \"high\", \"low\", \"close\"],\n",
    "        [100, 110, 70, 100],\n",
    "        [200, 210, 180, 190],\n",
    "        [300, 310, 300, 310]]\n",
    "# 100\n",
    "# 190\n",
    "# 310\n",
    "\n",
    "for row in ohlc:\n",
    "    for col in row:\n",
    "        print(col[3])"
   ]
  },
  {
   "cell_type": "code",
   "execution_count": 120,
   "id": "fd1dc6e5-2cfb-444e-b58b-911b22280eab",
   "metadata": {},
   "outputs": [
    {
     "name": "stdout",
     "output_type": "stream",
     "text": [
      "100\n",
      "190\n",
      "310\n"
     ]
    }
   ],
   "source": [
    "for row in ohlc[1::]:\n",
    "    print(row[3])"
   ]
  },
  {
   "cell_type": "code",
   "execution_count": 122,
   "id": "20373d37-d0c4-40ab-bea5-ee05608f49ec",
   "metadata": {},
   "outputs": [
    {
     "name": "stdout",
     "output_type": "stream",
     "text": [
      "190\n",
      "310\n"
     ]
    }
   ],
   "source": [
    "# 196 ohlc 리스트에는 시가(open), 고가 (high), 저가 (low) , 종가(close)가 날짜별로 저장돼 있다. 종가가 150원보다 큰경우에만 종가를 출력하라.\n",
    "\n",
    "ohlc = [[\"open\", \"high\", \"low\", \"close\"],\n",
    "        [100, 110, 70, 100],\n",
    "        [200, 210, 180, 190],\n",
    "        [300, 310, 300, 310]]\n",
    "# 190\n",
    "# 310\n",
    "\n",
    "for row in ohlc[1::]:\n",
    "    if row[3] > 150:\n",
    "        print(row[3])"
   ]
  },
  {
   "cell_type": "code",
   "execution_count": 124,
   "id": "ca4d1665-4d6b-4320-94a1-4cb01c0fd30c",
   "metadata": {},
   "outputs": [
    {
     "name": "stdout",
     "output_type": "stream",
     "text": [
      "100\n",
      "310\n"
     ]
    }
   ],
   "source": [
    "# 197 ohlc 리스트에는 시가(open), 고가 (high), 저가 (low) , 종가(close)가 날짜별로 저장돼 있다. 종가가 시가 보다 크거나 같은 경우에만 종가를 출력하라.\n",
    "\n",
    "ohlc = [[\"open\", \"high\", \"low\", \"close\"],\n",
    "        [100, 110, 70, 100],\n",
    "        [200, 210, 180, 190],\n",
    "        [300, 310, 300, 310]]\n",
    "# 100\n",
    "# 310\n",
    "\n",
    "for row in ohlc[1:]:\n",
    "    if row[0] <= row[3]:\n",
    "        print(row[3])"
   ]
  },
  {
   "cell_type": "code",
   "execution_count": 126,
   "id": "79dd75a6-7501-4f93-96a0-e87a71ca7d0e",
   "metadata": {},
   "outputs": [
    {
     "name": "stdout",
     "output_type": "stream",
     "text": [
      "[40, 30, 10]\n"
     ]
    }
   ],
   "source": [
    "# 198 ohlc 리스트에는 시가(open), 고가 (high), 저가 (low) , 종가(close)가 날짜별로 저장돼 있다. \n",
    "# 고가와 저가의 차이를 변동폭으로 정의할 때 변동폭을 volatility 이름의 리스트에 저장하라.\n",
    "\n",
    "ohlc = [[\"open\", \"high\", \"low\", \"close\"],\n",
    "        [100, 110, 70, 100],\n",
    "        [200, 210, 180, 190],\n",
    "        [300, 310, 300, 310]]\n",
    "# >> print(volatility)\n",
    "# [40, 30, 10]\n",
    "\n",
    "volatility = []\n",
    "for row in ohlc[1:]:\n",
    "    volatility.append(row[1] - row[2])\n",
    "\n",
    "print(volatility)"
   ]
  },
  {
   "cell_type": "code",
   "execution_count": 128,
   "id": "5287598c-7b7a-4bf7-972f-75ab81d505a4",
   "metadata": {},
   "outputs": [
    {
     "name": "stdout",
     "output_type": "stream",
     "text": [
      "10\n"
     ]
    }
   ],
   "source": [
    "# 199 리스트에는 3일 간의 ohlc 데이터가 저장돼 있다. 종가가 시가보다 높은 날의 변동성 (고가 - 저가)을 화면에 출력하라.\n",
    "\n",
    "ohlc = [[\"open\", \"high\", \"low\", \"close\"],\n",
    "        [100, 110, 70, 100],\n",
    "        [200, 210, 180, 190],\n",
    "        [300, 310, 300, 310]]\n",
    "# 종가가 시가보다 높은 거래일의 OHLC는 [300, 310, 300, 310] 이다. 따라서 이 거래일의 변동성은 10 (310 - 300)이다.\n",
    "# 10\n",
    "\n",
    "for row in ohlc[1:]:\n",
    "    if row[3] > row[0]:\n",
    "        print(row[1] - row[2])"
   ]
  },
  {
   "cell_type": "code",
   "execution_count": 130,
   "id": "9fd583d5-191a-47cf-b7fb-79b53c5c138a",
   "metadata": {},
   "outputs": [
    {
     "ename": "TypeError",
     "evalue": "unsupported operand type(s) for +=: 'builtin_function_or_method' and 'int'",
     "output_type": "error",
     "traceback": [
      "\u001b[0;31m---------------------------------------------------------------------------\u001b[0m",
      "\u001b[0;31mTypeError\u001b[0m                                 Traceback (most recent call last)",
      "Cell \u001b[0;32mIn[130], line 12\u001b[0m\n\u001b[1;32m     10\u001b[0m \u001b[38;5;28;01mfor\u001b[39;00m row \u001b[38;5;129;01min\u001b[39;00m ohlc[\u001b[38;5;241m1\u001b[39m:]:\n\u001b[1;32m     11\u001b[0m     a \u001b[38;5;241m=\u001b[39m row[\u001b[38;5;241m3\u001b[39m] \u001b[38;5;241m-\u001b[39m row[\u001b[38;5;241m0\u001b[39m]\n\u001b[0;32m---> 12\u001b[0m     \u001b[38;5;28msum\u001b[39m \u001b[38;5;241m+\u001b[39m\u001b[38;5;241m=\u001b[39m a\n\u001b[1;32m     13\u001b[0m     \u001b[38;5;28mprint\u001b[39m(\u001b[38;5;28msum\u001b[39m)\n",
      "\u001b[0;31mTypeError\u001b[0m: unsupported operand type(s) for +=: 'builtin_function_or_method' and 'int'"
     ]
    }
   ],
   "source": [
    "# 200 리스트에는 3일 간의 ohlc 데이터가 저장돼 있다. 시가에 매수해서 종가에 매도 했을 경우 총 수익금을 계산하라.\n",
    "\n",
    "ohlc = [[\"open\", \"high\", \"low\", \"close\"],\n",
    "        [100, 110, 70, 100],\n",
    "        [200, 210, 180, 190],\n",
    "        [300, 310, 300, 310]]\n",
    "# 1일차 수익 0원 (100 - 100), 2일차 수익 -10원 (190 - 200), 3일차 수익 10원 (310 - 300) 이다.\n",
    "# 0\n",
    "\n",
    "for row in ohlc[1:]:\n",
    "    a = row[3] - row[0]\n",
    "    sum += a\n",
    "    print(sum)"
   ]
  },
  {
   "cell_type": "markdown",
   "id": "58dd1f57-91c7-486e-8966-13fd9afdccd6",
   "metadata": {},
   "source": [
    "-> 서로 연산이 불가능한 타입끼리 연산을 시도했을 때 나타나는 오류이다.  \n",
    "타입을 확인해본다."
   ]
  },
  {
   "cell_type": "code",
   "execution_count": 133,
   "id": "823b631f-368a-449f-afbf-46122e137950",
   "metadata": {},
   "outputs": [
    {
     "name": "stdout",
     "output_type": "stream",
     "text": [
      "<class 'int'>\n",
      "<class 'int'>\n",
      "<class 'int'>\n"
     ]
    }
   ],
   "source": [
    "ohlc = [[\"open\", \"high\", \"low\", \"close\"],\n",
    "        [100, 110, 70, 100],\n",
    "        [200, 210, 180, 190],\n",
    "        [300, 310, 300, 310]]\n",
    "\n",
    "for row in ohlc[1:]:\n",
    "    a = row[3] - row[0]\n",
    "    print(type(a))"
   ]
  },
  {
   "cell_type": "markdown",
   "id": "905eb07e-dbe4-475f-a675-1b89f955f839",
   "metadata": {},
   "source": [
    "-> int인데 왜 연산이 안되는지 의문..? 이었는데 초기값이 없었다."
   ]
  },
  {
   "cell_type": "code",
   "execution_count": 137,
   "id": "a396da10-2288-46fa-a96a-acd14e92b46c",
   "metadata": {},
   "outputs": [
    {
     "name": "stdout",
     "output_type": "stream",
     "text": [
      "0\n",
      "-10\n",
      "0\n"
     ]
    }
   ],
   "source": [
    "ohlc = [[\"open\", \"high\", \"low\", \"close\"],\n",
    "        [100, 110, 70, 100],\n",
    "        [200, 210, 180, 190],\n",
    "        [300, 310, 300, 310]]\n",
    "\n",
    "sum = 0\n",
    "for row in ohlc[1:]:\n",
    "    a = row[3] - row[0]\n",
    "    sum += a\n",
    "    print(sum)"
   ]
  },
  {
   "cell_type": "markdown",
   "id": "d3f073b0-12ba-408b-830d-4f4c52d47cb2",
   "metadata": {},
   "source": [
    "-> 합이 잘 이루어지도록 for문 밖에서 print 한다."
   ]
  },
  {
   "cell_type": "code",
   "execution_count": 139,
   "id": "74192425-8853-4a51-a22c-6eccaa8e4d14",
   "metadata": {},
   "outputs": [
    {
     "name": "stdout",
     "output_type": "stream",
     "text": [
      "0\n"
     ]
    }
   ],
   "source": [
    "ohlc = [[\"open\", \"high\", \"low\", \"close\"],\n",
    "        [100, 110, 70, 100],\n",
    "        [200, 210, 180, 190],\n",
    "        [300, 310, 300, 310]]\n",
    "\n",
    "sum = 0\n",
    "for row in ohlc[1:]:\n",
    "    a = row[3] - row[0]\n",
    "    sum += a\n",
    "print(sum)"
   ]
  }
 ],
 "metadata": {
  "kernelspec": {
   "display_name": "Python 3 (ipykernel)",
   "language": "python",
   "name": "python3"
  },
  "language_info": {
   "codemirror_mode": {
    "name": "ipython",
    "version": 3
   },
   "file_extension": ".py",
   "mimetype": "text/x-python",
   "name": "python",
   "nbconvert_exporter": "python",
   "pygments_lexer": "ipython3",
   "version": "3.11.7"
  }
 },
 "nbformat": 4,
 "nbformat_minor": 5
}
